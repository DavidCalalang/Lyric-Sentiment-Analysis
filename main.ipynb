{
 "cells": [
  {
   "cell_type": "markdown",
   "id": "62304c17",
   "metadata": {},
   "source": [
    "# Installing Dependencies"
   ]
  },
  {
   "cell_type": "code",
   "execution_count": 2,
   "id": "2479e68a",
   "metadata": {},
   "outputs": [
    {
     "name": "stdout",
     "output_type": "stream",
     "text": [
      "Collecting lyricsgenius\n",
      "  Downloading lyricsgenius-3.0.1-py3-none-any.whl (59 kB)\n",
      "\u001b[2K     \u001b[90m━━━━━━━━━━━━━━━━━━━━━━━━━━━━━━━━━━━━━━━\u001b[0m \u001b[32m59.4/59.4 kB\u001b[0m \u001b[31m529.9 kB/s\u001b[0m eta \u001b[36m0:00:00\u001b[0ma \u001b[36m0:00:01\u001b[0m\n",
      "\u001b[?25hRequirement already satisfied: requests>=2.20.0 in /Users/davidcalalang/miniconda3/lib/python3.10/site-packages (from lyricsgenius) (2.28.1)\n",
      "Requirement already satisfied: beautifulsoup4>=4.6.0 in /Users/davidcalalang/miniconda3/lib/python3.10/site-packages (from lyricsgenius) (4.11.1)\n",
      "Requirement already satisfied: soupsieve>1.2 in /Users/davidcalalang/miniconda3/lib/python3.10/site-packages (from beautifulsoup4>=4.6.0->lyricsgenius) (2.3.2.post1)\n",
      "Requirement already satisfied: urllib3<1.27,>=1.21.1 in /Users/davidcalalang/miniconda3/lib/python3.10/site-packages (from requests>=2.20.0->lyricsgenius) (1.26.14)\n",
      "Requirement already satisfied: certifi>=2017.4.17 in /Users/davidcalalang/miniconda3/lib/python3.10/site-packages (from requests>=2.20.0->lyricsgenius) (2022.12.7)\n",
      "Requirement already satisfied: charset-normalizer<3,>=2 in /Users/davidcalalang/miniconda3/lib/python3.10/site-packages (from requests>=2.20.0->lyricsgenius) (2.0.4)\n",
      "Requirement already satisfied: idna<4,>=2.5 in /Users/davidcalalang/miniconda3/lib/python3.10/site-packages (from requests>=2.20.0->lyricsgenius) (3.4)\n",
      "Installing collected packages: lyricsgenius\n",
      "Successfully installed lyricsgenius-3.0.1\n",
      "Note: you may need to restart the kernel to use updated packages.\n"
     ]
    }
   ],
   "source": [
    "pip install lyricsgenius"
   ]
  },
  {
   "cell_type": "code",
   "execution_count": 6,
   "id": "0895fbab",
   "metadata": {},
   "outputs": [],
   "source": [
    "from striprtf.striprtf import rtf_to_text\n",
    "from transformers import AutoTokenizer, AutoModelForSequenceClassification\n",
    "import torch\n",
    "import numpy as np\n",
    "import pandas as pd\n",
    "from datetime import datetime\n",
    "from dateutil import parser\n",
    "import matplotlib.pyplot as plt\n",
    "import json\n",
    "import lyricsgenius"
   ]
  },
  {
   "cell_type": "markdown",
   "id": "b9f538d3",
   "metadata": {},
   "source": [
    "# Reading Lyrics (.rtf) File and Converting to String"
   ]
  },
  {
   "cell_type": "code",
   "execution_count": 8,
   "id": "b471bb5c",
   "metadata": {},
   "outputs": [
    {
     "name": "stdout",
     "output_type": "stream",
     "text": [
      "\"When I Was Your Man\"\n",
      "\n",
      "Same bed but it feels just a little bit bigger now\n",
      "Our song on the radio but it don't sound the same\n",
      "When our friends talk about you, all it does is just tear me down\n",
      "'Cause my heart breaks a little when I hear your name\n",
      "\n",
      "It all just sounds like oooooh…\n",
      "Mmm, too young, too dumb to realize\n",
      "That I should've bought you flowers\n",
      "And held your hand\n",
      "Should've gave you all my hours\n",
      "When I had the chance\n",
      "Take you to every party\n",
      "'Cause all you wanted to do was dance\n",
      "Now my baby's dancing\n",
      "But she's dancing with another man\n",
      "\n",
      "My pride, my ego, my needs, and my selfish ways\n",
      "Caused a good strong woman like you to walk out my life\n",
      "Now I'll never, never get to clean up the mess I made, ohh…\n",
      "And it haunts me every time I close my eyes\n",
      "\n",
      "It all just sounds like oooooh…\n",
      "Mmm, too young, too dumb to realize\n",
      "That I should've bought you flowers\n",
      "And held your hand\n",
      "Should've gave you all my hours\n",
      "When I had the chance\n",
      "Take you to every party\n",
      "'Cause all you wanted to do was dance\n",
      "Now my baby's dancing\n",
      "But she's dancing with another man\n",
      "\n",
      "Although it hurts\n",
      "I'll be the first to say that I was wrong\n",
      "Oh, I know I'm probably much too late\n",
      "To try and apologize for my mistakes\n",
      "But I just want you to know\n",
      "\n",
      "I hope he buys you flowers\n",
      "I hope he holds your hand\n",
      "Give you all his hours\n",
      "When he has the chance\n",
      "Take you to every party\n",
      "'Cause I remember how much you loved to dance\n",
      "Do all the things I should have done\n",
      "When I was your man\n",
      "Do all the things I should have done\n",
      "When I was your man\n",
      "\n"
     ]
    }
   ],
   "source": [
    "with open(\"When I Was Your Man.rtf\") as file:\n",
    "    content = file.read()\n",
    "    text = rtf_to_text(content)\n",
    "print(text)"
   ]
  },
  {
   "cell_type": "markdown",
   "id": "3ab9237c",
   "metadata": {},
   "source": [
    "# Using Genius API to Import Lyrics (main resource: https://github.com/johnwmillr/LyricsGenius#usage)"
   ]
  },
  {
   "cell_type": "code",
   "execution_count": 7,
   "id": "3f8d499e",
   "metadata": {},
   "outputs": [],
   "source": [
    "# Setting up access to API using access token from genius developer website\n",
    "access_token = \"_LIE8rLIMMSaGjV1B9lJ0PnI_coyEp0XeIclqImkRlN4JMtJ5OQPouOQ_RC5zf2i\"\n",
    "genius = lyricsgenius.Genius(access_token)"
   ]
  },
  {
   "cell_type": "code",
   "execution_count": 15,
   "id": "564fec91",
   "metadata": {},
   "outputs": [
    {
     "name": "stdout",
     "output_type": "stream",
     "text": [
      "Searching for \"Unorthodox Jukebox\" by Bruno Mars...\n",
      "Wrote Lyrics_UnorthodoxJukebox.json.\n"
     ]
    }
   ],
   "source": [
    "album = genius.search_album(\"Unorthodox Jukebox\", \"Bruno Mars\")\n",
    "album.save_lyrics()\n",
    "# a .json file is saved in the directory containing information for the whole album"
   ]
  },
  {
   "cell_type": "code",
   "execution_count": 16,
   "id": "02a1ea73",
   "metadata": {},
   "outputs": [],
   "source": [
    "with open(\"Lyrics_UnorthodoxJukebox.json\") as f:\n",
    "    lyrics = json.load(f)"
   ]
  },
  {
   "cell_type": "code",
   "execution_count": 18,
   "id": "a93435bc",
   "metadata": {},
   "outputs": [
    {
     "name": "stdout",
     "output_type": "stream",
     "text": [
      "[{'number': 1, 'song': {'_type': 'song', 'annotation_count': 9, 'api_path': '/songs/96183', 'artist_names': 'Bruno Mars', 'full_title': 'Young Girls by\\xa0Bruno\\xa0Mars', 'header_image_thumbnail_url': 'https://images.genius.com/a011391dce77d483f6cfcb3b39a70b96.300x300x1.jpg', 'header_image_url': 'https://images.genius.com/a011391dce77d483f6cfcb3b39a70b96.1000x1000x1.jpg', 'id': 96183, 'instrumental': False, 'lyrics_owner_id': 154085, 'lyrics_state': 'complete', 'lyrics_updated_at': 1669953685, 'path': '/Bruno-mars-young-girls-lyrics', 'pyongs_count': 37, 'relationships_index_url': 'https://genius.com/Bruno-mars-young-girls-sample', 'release_date_components': {'year': 2012, 'month': 11, 'day': 6}, 'release_date_for_display': 'November 6, 2012', 'release_date_with_abbreviated_month_for_display': 'Nov. 6, 2012', 'song_art_image_thumbnail_url': 'https://images.genius.com/86ba9fdfe0b8905f6c400405c65f7e57.300x300x1.jpg', 'song_art_image_url': 'https://images.genius.com/86ba9fdfe0b8905f6c400405c65f7e57.1000x1000x1.jpg', 'stats': {'unreviewed_annotations': 1, 'hot': False, 'pageviews': 136644}, 'title': 'Young Girls', 'title_with_featured': 'Young Girls', 'updated_by_human_at': 1704648441, 'url': 'https://genius.com/Bruno-mars-young-girls-lyrics', 'featured_artists': [], 'primary_artist': {'_type': 'artist', 'api_path': '/artists/500', 'header_image_url': 'https://images.genius.com/8eb447d78884f40471c1ba199b6b7fb3.1000x667x1.jpg', 'id': 500, 'image_url': 'https://images.genius.com/ec38c902389e5d9df5782aa54fcf3c00.888x888x1.jpg', 'index_character': 'b', 'is_meme_verified': True, 'is_verified': True, 'name': 'Bruno Mars', 'slug': 'Bruno-mars', 'url': 'https://genius.com/artists/Bruno-mars', 'iq': 250}, 'artist': 'Bruno Mars', 'lyrics': \"36 ContributorsYoung Girls Lyrics[Verse 1]\\nI spend all my money\\nBought a big old fancy car\\nFor these bright-eyed honeys\\nOh yeah, you know who you are\\nKeep me up 'til the sun is high\\n'Til the birds start callin' my name\\nI'm addicted and I don't know why\\nGuess I've always been this way\\n\\n[Pre-Chorus]\\nAll these roads steer me wrong\\nBut I still drive them all night long\\nAll night long\\n\\n[Chorus]\\nAll you young, wild girls\\nYou make a mess of me (You make a mess of me)\\nYeah, you young, wild girls\\nYou'll be the death of me, the death of me\\nAll you young, wild girls\\nNo matter what you do (No matter what you do)\\nYeah, you young, wild girls\\nI'll always come back to you, come back to you\\n\\n[Verse 2]\\nI get lost under these lights\\nI get lost in the words I say\\nStart believin' my own lies\\nLike everythin' will be okay\\nOh, I still dream of a simple life\\nBoy meets girl, makes her his wife\\nBut love don't exist when you live like this\\nThat much, I know, yes, I know\\nSee Bruno Mars LiveGet tickets as low as $97You might also like[Pre-Chorus]\\nAll these roads steer me wrong\\nBut I still drive them all night long\\nAll night long\\n\\n[Chorus]\\nAll you young, wild girls\\nYou make a mess of me (You make a mess of me)\\nYeah, you young, wild girls\\nYou'll be the death of me, the death of me\\nAll you young, wild girls\\nNo matter what you do (No matter what you do)\\nYeah, you young, wild girls\\nI'll always come back to you, come back to you\\n\\n[Bridge]\\nYou, you\\nYou, you, you\\nYeah, you, you, you\\nYou, you, you\\n\\n[Chorus]\\nAll you young, wild girls\\nYou make a mess of me (You make a mess of me)\\nYeah, you young, wild girls\\nYou'll be the death of me, the death of me\\nAll you young, wild girls\\nNo matter what you do (No matter what you do)\\nYeah, you young, wild girls\\nI'll always come back to you, come back to you37Embed\"}}, {'number': 2, 'song': {'_type': 'song', 'annotation_count': 5, 'api_path': '/songs/90551', 'artist_names': 'Bruno Mars', 'full_title': 'Locked Out of Heaven by\\xa0Bruno\\xa0Mars', 'header_image_thumbnail_url': 'https://images.genius.com/e600f981198edad86e4d1e44a07cd7cd.300x300x1.png', 'header_image_url': 'https://images.genius.com/e600f981198edad86e4d1e44a07cd7cd.1000x1000x1.png', 'id': 90551, 'instrumental': False, 'lyrics_owner_id': 47098, 'lyrics_state': 'complete', 'lyrics_updated_at': 1711162533, 'path': '/Bruno-mars-locked-out-of-heaven-lyrics', 'pyongs_count': 82, 'relationships_index_url': 'https://genius.com/Bruno-mars-locked-out-of-heaven-sample', 'release_date_components': {'year': 2012, 'month': 10, 'day': 1}, 'release_date_for_display': 'October 1, 2012', 'release_date_with_abbreviated_month_for_display': 'Oct. 1, 2012', 'song_art_image_thumbnail_url': 'https://images.genius.com/e600f981198edad86e4d1e44a07cd7cd.300x300x1.png', 'song_art_image_url': 'https://images.genius.com/e600f981198edad86e4d1e44a07cd7cd.1000x1000x1.png', 'stats': {'unreviewed_annotations': 1, 'hot': False, 'pageviews': 1443414}, 'title': 'Locked Out of Heaven', 'title_with_featured': 'Locked Out of Heaven', 'updated_by_human_at': 1713623452, 'url': 'https://genius.com/Bruno-mars-locked-out-of-heaven-lyrics', 'featured_artists': [], 'primary_artist': {'_type': 'artist', 'api_path': '/artists/500', 'header_image_url': 'https://images.genius.com/8eb447d78884f40471c1ba199b6b7fb3.1000x667x1.jpg', 'id': 500, 'image_url': 'https://images.genius.com/ec38c902389e5d9df5782aa54fcf3c00.888x888x1.jpg', 'index_character': 'b', 'is_meme_verified': True, 'is_verified': True, 'name': 'Bruno Mars', 'slug': 'Bruno-mars', 'url': 'https://genius.com/artists/Bruno-mars', 'iq': 250}, 'artist': 'Bruno Mars', 'lyrics': \"86 ContributorsTranslationsEspañolDeutschLocked Out of Heaven Lyrics[Intro: Bruno Mars & Mark Ronson]\\n(One, two, one, two, three)\\nAw, yeah, yeah\\nAw, yeah, yeah, yeah, yeah (Uh)\\nAw, yeah, yeah\\nAw, yeah, yeah, yeah, yeah (Uh)\\n\\n[Verse 1]\\nNever had much faith in love or miracles (Uh)\\nNever wanna put my heart on the line (Uh)\\nBut swimmin' in your water's somethin' spiritual (Uh)\\nI'm born again every time you spend the night, —ight (Uh)\\n\\n[Pre-Chorus]\\n'Cause your sex takes me to paradise\\nYeah, your sex takes me to paradise\\nAnd it shows\\nYeah, yeah, yeah\\n\\n[Chorus]\\n'Cause you make me feel like\\nI've been locked outta heaven\\nFor too long\\nFor too long\\nYeah, you make me feel like\\nI've been locked outta heaven\\nFor too long\\nFor too long\\nSee Bruno Mars LiveGet tickets as low as $97You might also like[Post-Chorus]\\nAw, yeah, yeah, yeah, yeah (Uh)\\nAw, yeah, yeah\\nAw, yeah, yeah, yeah, yeah (Uh)\\n\\n[Verse 2]\\nYou bring me to my knees, you make me testify (Uh)\\nYou can make a sinner change his ways (Uh)\\nOpen up your gates 'cause I can't wait to see the light (Uh)\\nAnd right there is where I wanna stay, —ay (Uh)\\n\\n[Pre-Chorus]\\n'Cause your sex takes me to paradise\\nYeah, your sex takes me to paradise\\nAnd it shows\\nYeah, yeah, yeah\\n\\n[Chorus]\\n'Cause you make me feel like\\nI've been locked outta heaven\\nFor too long\\nFor too long\\nYeah, you make me feel like\\nI've been locked outta heaven\\nFor too long\\nFor too long\\n[Bridge]\\nOh, woah, woah, woah\\nYeah, yeah, yeah\\nCan I just stay here?\\nSpend the rest of my days here?\\nOh, woah, woah, woah\\nYeah, yeah, yeah\\nCan I just stay here?\\nSpend the rest of my days here?\\n\\n[Chorus]\\n'Cause you make me feel like\\nI've been locked outta heaven\\nFor too long\\nFor too long\\nYeah, you make me feel like\\nI've been locked outta heaven\\nFor too long\\nFor too long\\n\\n[Post-Chorus]\\nAw, yeah, yeah, yeah, yeah (Uh)\\nAw, yeah, yeah\\nAw, yeah, yeah, yeah, yeah (Uh)82Embed\"}}, {'number': 3, 'song': {'_type': 'song', 'annotation_count': 10, 'api_path': '/songs/104971', 'artist_names': 'Bruno Mars', 'full_title': 'Gorilla by\\xa0Bruno\\xa0Mars', 'header_image_thumbnail_url': 'https://images.rapgenius.com/441b1fcd3312f72c0004a17dad673ef6.220x220x1.jpg', 'header_image_url': 'https://images.rapgenius.com/441b1fcd3312f72c0004a17dad673ef6.220x220x1.jpg', 'id': 104971, 'instrumental': False, 'lyrics_owner_id': 170227, 'lyrics_state': 'complete', 'lyrics_updated_at': 1669954665, 'path': '/Bruno-mars-gorilla-lyrics', 'pyongs_count': 46, 'relationships_index_url': 'https://genius.com/Bruno-mars-gorilla-sample', 'release_date_components': {'year': 2012, 'month': 12, 'day': 7}, 'release_date_for_display': 'December 7, 2012', 'release_date_with_abbreviated_month_for_display': 'Dec. 7, 2012', 'song_art_image_thumbnail_url': 'https://images.rapgenius.com/441b1fcd3312f72c0004a17dad673ef6.220x220x1.jpg', 'song_art_image_url': 'https://images.rapgenius.com/441b1fcd3312f72c0004a17dad673ef6.220x220x1.jpg', 'stats': {'unreviewed_annotations': 0, 'hot': False, 'pageviews': 238905}, 'title': 'Gorilla', 'title_with_featured': 'Gorilla', 'updated_by_human_at': 1710030008, 'url': 'https://genius.com/Bruno-mars-gorilla-lyrics', 'featured_artists': [], 'primary_artist': {'_type': 'artist', 'api_path': '/artists/500', 'header_image_url': 'https://images.genius.com/8eb447d78884f40471c1ba199b6b7fb3.1000x667x1.jpg', 'id': 500, 'image_url': 'https://images.genius.com/ec38c902389e5d9df5782aa54fcf3c00.888x888x1.jpg', 'index_character': 'b', 'is_meme_verified': True, 'is_verified': True, 'name': 'Bruno Mars', 'slug': 'Bruno-mars', 'url': 'https://genius.com/artists/Bruno-mars', 'iq': 250}, 'artist': 'Bruno Mars', 'lyrics': '51 ContributorsTranslationsPortuguêsGorilla Lyrics[Verse 1]\\nOoh, I got a body full of liquor\\nWith a cocaine kicker\\nAnd I\\'m feelin\\' like I\\'m thirty feet tall\\nSo lay it down, lay it down\\nYou got your legs up in the sky\\nWith the devil in your eyes\\nLet me hear you say you want it all\\nSay it now, say it now\\n\\n[Pre-Chorus]\\nLook what you\\'re doin\\'\\nLook what you\\'ve done\\nBut in this jungle, you can\\'t run\\n\\'Cause what I got for ya, I promise it\\'s a killer\\nYou\\'ll be bangin\\' on my chest, bang bang, gorilla\\n\\n[Chorus]\\nOoh, ooh, yeah\\nYou and me, baby, makin\\' love like gorillas\\nOoh, ooh, yeah\\nYou and me, baby, makin\\' love like gorillas\\n\\n[Verse 2]\\nYeah, I got a fistful of your hair\\nBut you don\\'t look like you\\'re scared\\nYou just smilin\\', tell me, \"Daddy, it\\'s yours\"\\n\\'Cause you know how I like it, you\\'s a dirty little lover\\nIf the neighbors call the cops, call the sheriff, call the SWAT\\nWe don\\'t stop, we keep rockin\\' while they knockin\\' on our door\\nAnd you\\'re screamin\\', \"Give it to me, baby\\nGive it to me, motherfucker\"\\nSee Bruno Mars LiveGet tickets as low as $97You might also like[Pre-Chorus]\\nOh, look what you\\'re doin\\'\\nLook what you\\'ve done\\nBut in this jungle, you can\\'t run\\n\\'Cause what I got for ya, I promise it\\'s a killer\\nYou\\'ll be bangin\\' on my chest, bang bang, gorilla\\n\\n[Chorus]\\nOoh, ooh, yeah\\nYou and me, baby, makin\\' love like gorillas\\nOoh, ooh, yeah\\nYou and me, baby, makin\\' love like gorillas\\n\\n[Bridge]\\nI bet you never ever felt so good, so good\\nI got your body tremblin\\' like it should, it should\\nYou\\'ll never be the same, baby, once I\\'m done with\\nYou-ooh-ooh-ooh-ooh\\n\\n[Chorus]\\nYou, you, you\\nOh, you and me, baby, makin\\' love like gorillas\\nOoh (Ooh, ooh), ooh, yeah (Yeah)\\nYou and me, baby, we\\'ll be fuckin\\' like gorillas\\nYeah (Ooh), yeah, baby (Ooh), baby (Yeah)\\nAw, yeah, yeah\\nYou and me, baby, makin\\' love like gorillas46Embed'}}, {'number': 4, 'song': {'_type': 'song', 'annotation_count': 5, 'api_path': '/songs/113496', 'artist_names': 'Bruno Mars', 'full_title': 'Treasure by\\xa0Bruno\\xa0Mars', 'header_image_thumbnail_url': 'https://images.genius.com/a011391dce77d483f6cfcb3b39a70b96.300x300x1.jpg', 'header_image_url': 'https://images.genius.com/a011391dce77d483f6cfcb3b39a70b96.1000x1000x1.jpg', 'id': 113496, 'instrumental': False, 'lyrics_owner_id': 181848, 'lyrics_state': 'complete', 'lyrics_updated_at': 1690485289, 'path': '/Bruno-mars-treasure-lyrics', 'pyongs_count': 72, 'relationships_index_url': 'https://genius.com/Bruno-mars-treasure-sample', 'release_date_components': {'year': 2012, 'month': 12, 'day': 7}, 'release_date_for_display': 'December 7, 2012', 'release_date_with_abbreviated_month_for_display': 'Dec. 7, 2012', 'song_art_image_thumbnail_url': 'https://images.genius.com/c7b37e0ffbe3b7143883c795475e7bcc.300x300x1.jpg', 'song_art_image_url': 'https://images.genius.com/c7b37e0ffbe3b7143883c795475e7bcc.1000x1000x1.jpg', 'stats': {'unreviewed_annotations': 2, 'hot': False, 'pageviews': 609418}, 'title': 'Treasure', 'title_with_featured': 'Treasure', 'updated_by_human_at': 1705913480, 'url': 'https://genius.com/Bruno-mars-treasure-lyrics', 'featured_artists': [], 'primary_artist': {'_type': 'artist', 'api_path': '/artists/500', 'header_image_url': 'https://images.genius.com/8eb447d78884f40471c1ba199b6b7fb3.1000x667x1.jpg', 'id': 500, 'image_url': 'https://images.genius.com/ec38c902389e5d9df5782aa54fcf3c00.888x888x1.jpg', 'index_character': 'b', 'is_meme_verified': True, 'is_verified': True, 'name': 'Bruno Mars', 'slug': 'Bruno-mars', 'url': 'https://genius.com/artists/Bruno-mars', 'iq': 250}, 'artist': 'Bruno Mars', 'lyrics': \"87 ContributorsTranslationsPortuguêsDeutschTreasure Lyrics[Intro]\\nBaby squirrel, you's a sexy motherfucker\\n\\n[Verse 1]\\nGimme your, gimme your, gimme your attention, baby\\nI gotta tell you a little somethin' about yourself\\nYou're wonderful, flawless, ooh, you a sexy lady\\nBut you walk around here like you wanna be someone else\\n\\n[Pre-Chorus]\\nOh, woah\\nI know that you don't know it\\nBut you're fine, so fine (Fine, so fine)\\nOh, woah\\nOh, girl, I'm gonna show you\\nWhen you're mine, oh, mine (Mine, oh, mine)\\n\\n[Chorus]\\nTreasure\\nThat is what you are\\nHoney, you're my golden star\\nYou know you can make my wish come true\\nIf you let me treasure you\\nIf you let me treasure you\\nOh, oh, oh\\nSee Bruno Mars LiveGet tickets as low as $97You might also like[Verse 2]\\nPretty girl, pretty girl, pretty girl, you should be smilin'\\nA girl like you should never look so blue\\nYou're everything I see in my dreams\\nI wouldn't say that to you if it wasn't true\\n\\n[Pre-Chorus]\\nOh, woah\\nI know that you don't know it\\nBut you're fine, so fine (Fine, so fine)\\nOh, woah\\nOh, girl, I'm gonna show you\\nWhen you're mine, oh, mine (Mine, oh, mine)\\n\\n[Chorus]\\nTreasure\\nThat is what you are\\nHoney, you're my golden star\\nYou know you can make my wish come true\\nIf you let me treasure you\\nIf you let me treasure you\\nOh, oh, oh\\n\\n[Bridge]\\nYou are my treasure\\nYou are my treasure\\nYou are my treasure\\nYeah, you, you, you, you are\\nYou are my treasure\\nYou are my treasure\\nYou are my treasure\\nYeah, you, you, you, you are\\n[Chorus]\\nTreasure (You are my treasure)\\nThat is what you are (You are my treasure)\\n(You are my treasure)\\nHoney, you're my golden star (You, you, you are)\\n(You are my treasure)\\nYou know you can make my wish come true (You are my treasure)\\n(You are my treasure)\\nIf you let me treasure you (You, you, you are)\\n(You are my treasure)\\nIf you let me treasure you (You are my treasure)\\nOh, oh, oh72Embed\"}}, {'number': 5, 'song': {'_type': 'song', 'annotation_count': 4, 'api_path': '/songs/116604', 'artist_names': 'Bruno Mars', 'full_title': 'Moonshine by\\xa0Bruno\\xa0Mars', 'header_image_thumbnail_url': 'https://images.genius.com/a011391dce77d483f6cfcb3b39a70b96.300x300x1.jpg', 'header_image_url': 'https://images.genius.com/a011391dce77d483f6cfcb3b39a70b96.1000x1000x1.jpg', 'id': 116604, 'instrumental': False, 'lyrics_owner_id': 68096, 'lyrics_state': 'complete', 'lyrics_updated_at': 1695644139, 'path': '/Bruno-mars-moonshine-lyrics', 'pyongs_count': 13, 'relationships_index_url': 'https://genius.com/Bruno-mars-moonshine-sample', 'release_date_components': {'year': 2012, 'month': 11, 'day': 19}, 'release_date_for_display': 'November 19, 2012', 'release_date_with_abbreviated_month_for_display': 'Nov. 19, 2012', 'song_art_image_thumbnail_url': 'https://images.genius.com/82d692808a845e75db10b021cc442992.300x300x1.jpg', 'song_art_image_url': 'https://images.genius.com/82d692808a845e75db10b021cc442992.1000x1000x1.jpg', 'stats': {'unreviewed_annotations': 0, 'hot': False, 'pageviews': 57588}, 'title': 'Moonshine', 'title_with_featured': 'Moonshine', 'updated_by_human_at': 1695636507, 'url': 'https://genius.com/Bruno-mars-moonshine-lyrics', 'featured_artists': [], 'primary_artist': {'_type': 'artist', 'api_path': '/artists/500', 'header_image_url': 'https://images.genius.com/8eb447d78884f40471c1ba199b6b7fb3.1000x667x1.jpg', 'id': 500, 'image_url': 'https://images.genius.com/ec38c902389e5d9df5782aa54fcf3c00.888x888x1.jpg', 'index_character': 'b', 'is_meme_verified': True, 'is_verified': True, 'name': 'Bruno Mars', 'slug': 'Bruno-mars', 'url': 'https://genius.com/artists/Bruno-mars', 'iq': 250}, 'artist': 'Bruno Mars', 'lyrics': \"21 ContributorsMoonshine Lyrics[Verse 1]\\nHello\\nYou know, you look even better than the way you did the night before\\nAnd the moment that you kiss my lips, you know, I start to feel wonderful\\nIt's somethin' incredible\\nThere's sex in your chemicals, oh\\nOoh, let's go\\nYou're the best way I know to escape the extraordinary\\nThis world ain't for you and I know for damn sure this world ain't for me\\nLift off and say goodbye\\nJust let your fire set me free\\n\\n[Chorus]\\nOh, moonshine\\nTake us to the stars tonight\\nTake us to that special place\\nThat place we went the last time, the last time\\n\\n[Verse 2]\\nI know\\nI was with you last night but it feels like it's been so long\\nAnd everybody that's around, they notice that I'm not myself when you're gone\\nIt's good to see you again\\nGood to see you again\\nOn top of the world (Uh)\\nIs where I stand when you're back in my life\\nLife's not so bad when you're way up this high\\nEverything is alright\\nEverything is alright\\nSee Bruno Mars LiveGet tickets as low as $97You might also like[Chorus]\\nOh, moonshine\\nTake us to the stars tonight\\nTake us to that special place\\nThat place we went the last time, the last time\\nOh, moonshine\\nYour love, it makes me come alive\\nTake us to that special place\\nThat place we went the last time, the last time\\n\\n[Bridge]\\nDon't look down, no, don't never look back\\nWe are not afraid to die young and live fast\\nGive me good times, give me love, give me laughs\\nLet's take a ride to the sky before the night is gone\\n\\n[Chorus]\\nMoonshine\\nTake us to the stars tonight\\nTake us to that special place\\nThat place we went the last time, the last time\\nOh, moonshine\\nYour love, it makes me come alive\\nTake us to that special place\\nThat place we went the last time, the last time13Embed\"}}, {'number': 6, 'song': {'_type': 'song', 'annotation_count': 5, 'api_path': '/songs/122542', 'artist_names': 'Bruno Mars', 'full_title': 'When I Was Your Man by\\xa0Bruno\\xa0Mars', 'header_image_thumbnail_url': 'https://images.genius.com/2e1e1ea46235d86a0ba541a1c30b3397.300x300x1.jpg', 'header_image_url': 'https://images.genius.com/2e1e1ea46235d86a0ba541a1c30b3397.1000x1000x1.jpg', 'id': 122542, 'instrumental': False, 'lyrics_owner_id': 151561, 'lyrics_state': 'complete', 'lyrics_updated_at': 1716110136, 'path': '/Bruno-mars-when-i-was-your-man-lyrics', 'pyongs_count': 180, 'relationships_index_url': 'https://genius.com/Bruno-mars-when-i-was-your-man-sample', 'release_date_components': {'year': 2012, 'month': 12, 'day': 3}, 'release_date_for_display': 'December 3, 2012', 'release_date_with_abbreviated_month_for_display': 'Dec. 3, 2012', 'song_art_image_thumbnail_url': 'https://images.genius.com/2e1e1ea46235d86a0ba541a1c30b3397.300x300x1.jpg', 'song_art_image_url': 'https://images.genius.com/2e1e1ea46235d86a0ba541a1c30b3397.1000x1000x1.jpg', 'stats': {'unreviewed_annotations': 1, 'concurrents': 18, 'hot': False, 'pageviews': 1957085}, 'title': 'When I Was Your Man', 'title_with_featured': 'When I Was Your Man', 'updated_by_human_at': 1716102268, 'url': 'https://genius.com/Bruno-mars-when-i-was-your-man-lyrics', 'featured_artists': [], 'primary_artist': {'_type': 'artist', 'api_path': '/artists/500', 'header_image_url': 'https://images.genius.com/8eb447d78884f40471c1ba199b6b7fb3.1000x667x1.jpg', 'id': 500, 'image_url': 'https://images.genius.com/ec38c902389e5d9df5782aa54fcf3c00.888x888x1.jpg', 'index_character': 'b', 'is_meme_verified': True, 'is_verified': True, 'name': 'Bruno Mars', 'slug': 'Bruno-mars', 'url': 'https://genius.com/artists/Bruno-mars', 'iq': 250}, 'artist': 'Bruno Mars', 'lyrics': \"103 ContributorsTranslationsDeutschالعربيةWhen I Was Your Man Lyrics[Verse 1]\\nSame bed, but it feels just a little bit bigger now\\nOur song on the radio, but it don't sound the same\\nWhen our friends talk about you, all it does is just tear me down\\n'Cause my heart breaks a little when I hear your name\\n\\n[Pre-Chorus]\\nIt all just sounds like (Ooh, ooh)\\nMm, too young, too dumb to realize\\n\\n[Chorus]\\nThat I should've bought you flowers\\nAnd held your hand\\nShoulda gave you all my hours\\nWhen I had the chance\\nTake you to every party\\n'Cause all you wanted to do was dance\\nNow my baby's dancin'\\nBut she's dancin' with another man\\n\\n[Verse 2]\\nUh, my pride, my ego, my needs, and my selfish ways\\nCaused a good, strong woman like you to walk out my life\\nNow I'll never, never get to clean up the mess I made, oh\\nAnd that haunts me every time I close my eyes\\nSee Bruno Mars LiveGet tickets as low as $97You might also like[Pre-Chorus]\\nIt all just sounds like (Ooh, ooh)\\nMm, too young, too dumb to realize\\n\\n[Chorus]\\nThat I should've bought you flowers\\nAnd held your hand\\nShoulda gave you all my hours\\nWhen I had the chance\\nTake you to every party\\n'Cause all you wanted to do was dance\\nNow my baby's dancin'\\nBut she's dancin' with another man\\n\\n[Bridge]\\nAlthough it hurts\\nI'll be the first to say that\\nI was wrong\\nOh, I know I'm probably much too late\\nTo try and apologize for my mistakes\\nBut I just want you to know\\n\\n[Chorus]\\nI hope he buys you flowers\\nI hope he holds your hand\\nGive you all his hours\\nWhen he has the chance\\nTake you to every party\\n'Cause I remember how much you love to dance\\nDo all the things I should've done\\nWhen I was your man\\nDo all the things I should've done\\nWhen I was your man180Embed\"}}, {'number': 7, 'song': {'_type': 'song', 'annotation_count': 7, 'api_path': '/songs/104043', 'artist_names': 'Bruno Mars', 'full_title': 'Natalie by\\xa0Bruno\\xa0Mars', 'header_image_thumbnail_url': 'https://images.genius.com/9978221daaac1d297761c410fa690513.300x300x1.png', 'header_image_url': 'https://images.genius.com/9978221daaac1d297761c410fa690513.1000x1000x1.png', 'id': 104043, 'instrumental': False, 'lyrics_owner_id': 30997, 'lyrics_state': 'complete', 'lyrics_updated_at': 1669952374, 'path': '/Bruno-mars-natalie-lyrics', 'pyongs_count': 13, 'relationships_index_url': 'https://genius.com/Bruno-mars-natalie-sample', 'release_date_components': {'year': 2012, 'month': 12, 'day': 7}, 'release_date_for_display': 'December 7, 2012', 'release_date_with_abbreviated_month_for_display': 'Dec. 7, 2012', 'song_art_image_thumbnail_url': 'https://images.genius.com/9978221daaac1d297761c410fa690513.300x300x1.png', 'song_art_image_url': 'https://images.genius.com/9978221daaac1d297761c410fa690513.1000x1000x1.png', 'stats': {'unreviewed_annotations': 0, 'hot': False, 'pageviews': 67682}, 'title': 'Natalie', 'title_with_featured': 'Natalie', 'updated_by_human_at': 1695096091, 'url': 'https://genius.com/Bruno-mars-natalie-lyrics', 'featured_artists': [], 'primary_artist': {'_type': 'artist', 'api_path': '/artists/500', 'header_image_url': 'https://images.genius.com/8eb447d78884f40471c1ba199b6b7fb3.1000x667x1.jpg', 'id': 500, 'image_url': 'https://images.genius.com/ec38c902389e5d9df5782aa54fcf3c00.888x888x1.jpg', 'index_character': 'b', 'is_meme_verified': True, 'is_verified': True, 'name': 'Bruno Mars', 'slug': 'Bruno-mars', 'url': 'https://genius.com/artists/Bruno-mars', 'iq': 250}, 'artist': 'Bruno Mars', 'lyrics': '33 ContributorsNatalie Lyrics[Verse 1]\\nUh, no, I\\'ve never done this before\\nNever wanna do this again\\nWrong turn on a dusty road\\nI did it to myself, I can\\'t pretend\\nWell, I learned just a little too late\\nGood god, I must have been blind\\n\\'Cause she got me for everything\\nEverything, everything, alright\\nLike my daddy, I\\'m a gamblin\\' man\\nNever been afraid to roll the dice\\nBut when I put my bet on her\\nLittle Miss Snake Eyes ruined my life\\nShe better sleep with one eye open\\nBetter make sure to lock her doors\\n\\'Cause once I get my hands on her, I\\'ma, ooh\\n\\n[Chorus]\\nNatalie\\nShe ran away with all my money\\nAnd she did it for fun\\nNatalie\\nShe\\'s probably out there thinkin\\' it\\'s funny\\nTellin\\' everyone\\nWell, I\\'m diggin\\' a ditch for this gold-diggin\\' bitch\\nWatch out, she\\'s quick\\nLook out for a pretty little thing named Natalie\\nIf you see her, tell her I\\'m comin\\'\\nShe better run\\nSee Bruno Mars LiveGet tickets as low as $97You might also like[Verse 2]\\nUh, the good Lord better bless your soul\\n\\'Cause I done already cursed your name\\nDon\\'t matter which way you go\\nPayback\\'s gonna come your way\\nYou\\'ll be beggin\\' me, \"Please, please, please\"\\nAnd I\\'ma look at you and laugh, laugh, laugh\\nWhile you sit there and cry for me, cry for me\\nCry for me all night\\nI\\'ll spend a life time in jail (Yeah, that\\'s what I\\'ll do)\\nI\\'ll be smilin\\' in my cell (Yeah, thinkin\\' \\'bout you)\\nCan\\'t nobody save you now\\nSure, there ain\\'t no use in tryin\\'\\nOnce I get my hands on you, I\\'ma, ooh\\n\\n[Chorus]\\nNatalie\\nShe ran away with all my money\\nAnd she did it for fun\\nNatalie\\nShe\\'s probably out there thinkin\\' it\\'s funny\\nTellin\\' everyone\\nWell, I\\'m diggin\\' a ditch\\nFor this gold-diggin\\' bitch\\nWatch out, she\\'s quick\\nLook out for a pretty little thing named Natalie\\nIf you see her, tell her I\\'m comin\\'\\nShe better run\\n[Bridge]\\nI shoulda known better (I shoulda known better)\\n\\'Cause when we were together (\\'Cause when we were together)\\nShe never said forever (She never said forever)\\nI\\'m a fool that played in her game\\n\\n[Chorus]\\nHey, Natalie\\nShe ran away with all my money\\nAnd she did it for fun\\nNatalie\\nShe\\'s probably out there thinkin\\' it\\'s funny\\nTellin\\' everyone\\nWell, I\\'m diggin\\' a ditch\\nFor this gold-diggin\\' bitch\\nWatch out, she\\'s quick\\nLook out for a pretty little thing named Natalie\\nIf you see her, tell her I\\'m comin\\'\\nShe better run13Embed'}}, {'number': 8, 'song': {'_type': 'song', 'annotation_count': 2, 'api_path': '/songs/178445', 'artist_names': 'Bruno Mars', 'full_title': 'Show Me by\\xa0Bruno\\xa0Mars', 'header_image_thumbnail_url': 'https://images.genius.com/9978221daaac1d297761c410fa690513.300x300x1.png', 'header_image_url': 'https://images.genius.com/9978221daaac1d297761c410fa690513.1000x1000x1.png', 'id': 178445, 'instrumental': False, 'lyrics_owner_id': 197950, 'lyrics_state': 'complete', 'lyrics_updated_at': 1669954105, 'path': '/Bruno-mars-show-me-lyrics', 'pyongs_count': 5, 'relationships_index_url': 'https://genius.com/Bruno-mars-show-me-sample', 'release_date_components': {'year': 2012, 'month': 12, 'day': 7}, 'release_date_for_display': 'December 7, 2012', 'release_date_with_abbreviated_month_for_display': 'Dec. 7, 2012', 'song_art_image_thumbnail_url': 'https://images.genius.com/9978221daaac1d297761c410fa690513.300x300x1.png', 'song_art_image_url': 'https://images.genius.com/9978221daaac1d297761c410fa690513.1000x1000x1.png', 'stats': {'unreviewed_annotations': 0, 'hot': False, 'pageviews': 30682}, 'title': 'Show Me', 'title_with_featured': 'Show Me', 'updated_by_human_at': 1695096242, 'url': 'https://genius.com/Bruno-mars-show-me-lyrics', 'featured_artists': [], 'primary_artist': {'_type': 'artist', 'api_path': '/artists/500', 'header_image_url': 'https://images.genius.com/8eb447d78884f40471c1ba199b6b7fb3.1000x667x1.jpg', 'id': 500, 'image_url': 'https://images.genius.com/ec38c902389e5d9df5782aa54fcf3c00.888x888x1.jpg', 'index_character': 'b', 'is_meme_verified': True, 'is_verified': True, 'name': 'Bruno Mars', 'slug': 'Bruno-mars', 'url': 'https://genius.com/artists/Bruno-mars', 'iq': 250}, 'artist': 'Bruno Mars', 'lyrics': '20 ContributorsShow Me Lyrics[Intro]\\nOh, yeah\\nOh, yeah\\nBaby, here we are again\\nOoh\\n\\n[Verse 1]\\nI can see it in your eyes, you want a good time\\nYou wanna put your body on mine\\nAlright, but don\\'t change your mind, don\\'t you change it, oh, no\\nOh, yeah, you called me today, drove all this way\\nSo don\\'t let this buzz go to waste, oh, no\\nGirl, Pleasure, Pleasure Island is where we can go\\n\\n[Pre-Chorus]\\nNo, I won\\'t think you\\'re easy, no, I won\\'t think you\\'re fast\\nYour eyes sayin\\' \"please me\" but your lips scared to ask\\nNo need to fight it when you know it feels right\\nYou say you\\'re a woman who knows what she likes\\n\\n[Chorus]\\nThen show me\\nYou got to, you got to show me\\nYou tell me all day that you\\'re lonely\\nWell, show me, show me, show me tonight, yeah\\nGirl, show me\\nYou got to, you got to show me\\nYou tell me all day that you\\'re lonely\\nWell, show me, show me, show me tonight, yeah\\nSee Bruno Mars LiveGet tickets as low as $97You might also like[Verse 2]\\nLove the way that you laugh, the way that you smile\\nMakes me feel like you\\'ve been waitin\\' a while\\nWell, guess what, darlin\\', I\\'ve been waiting too\\nSo let\\'s grind\\nWe can get freaky tonight\\nRight here\\'s your ticket to ride\\nTell me, girl, what you gon\\' do?\\n\\n[Pre-Chorus]\\nNo, I won\\'t think you\\'re easy, no, I won\\'t think you\\'re fast\\nYour eyes sayin\\' \"please me\" but your lips scared to ask\\nNo need to fight it when you know it feels right\\nYou say you\\'re a woman who knows what she likes\\n\\n[Chorus]\\nThen show me\\nYou got to, you got to show me\\nYou tell me all day that you\\'re lonely\\nWell, show me, show me, show me tonight, yeah\\nGirl, show me\\nYou got to, you got to show me\\nYou tell me all day that you\\'re lonely\\nWell, show me, show me, show me tonight, uh\\n\\n[Bridge]\\nIt\\'s gettin\\' freaky in this room, room, room\\nNow let me hear you say you want that boom, boom, boom\\nWe can take it slow, we can zoom, zoom, zoom\\nBaby, if you\\'re ready for that uh-uh-uh\\nIt\\'s gettin\\' freaky in this room, room, room\\nNow let me hear you say you want that boom, boom, boom\\nWe can take it slow, we can zoom, zoom, zoom\\nBaby, if you\\'re ready for that uh-uh-uh\\n[Chorus]\\nThen show me\\nYou got to, you got to show me\\nYou tell me all day that you\\'re lonely\\nWell, show me, show me, show me tonight, yeah\\nGirl, show me\\nYou got to, you got to show me\\nYou tell me all day that you\\'re lonely\\nWell, show me, show me, show me tonight, yeah5Embed'}}, {'number': 9, 'song': {'_type': 'song', 'annotation_count': 2, 'api_path': '/songs/186267', 'artist_names': 'Bruno Mars', 'full_title': 'Money Make Her Smile by\\xa0Bruno\\xa0Mars', 'header_image_thumbnail_url': 'https://images.genius.com/9978221daaac1d297761c410fa690513.300x300x1.png', 'header_image_url': 'https://images.genius.com/9978221daaac1d297761c410fa690513.1000x1000x1.png', 'id': 186267, 'instrumental': False, 'lyrics_owner_id': 7292188, 'lyrics_state': 'complete', 'lyrics_updated_at': 1669951812, 'path': '/Bruno-mars-money-make-her-smile-lyrics', 'pyongs_count': 10, 'relationships_index_url': 'https://genius.com/Bruno-mars-money-make-her-smile-sample', 'release_date_components': {'year': 2012, 'month': 12, 'day': 7}, 'release_date_for_display': 'December 7, 2012', 'release_date_with_abbreviated_month_for_display': 'Dec. 7, 2012', 'song_art_image_thumbnail_url': 'https://images.genius.com/9978221daaac1d297761c410fa690513.300x300x1.png', 'song_art_image_url': 'https://images.genius.com/9978221daaac1d297761c410fa690513.1000x1000x1.png', 'stats': {'unreviewed_annotations': 0, 'hot': False, 'pageviews': 20825}, 'title': 'Money Make Her Smile', 'title_with_featured': 'Money Make Her Smile', 'updated_by_human_at': 1695096265, 'url': 'https://genius.com/Bruno-mars-money-make-her-smile-lyrics', 'featured_artists': [], 'primary_artist': {'_type': 'artist', 'api_path': '/artists/500', 'header_image_url': 'https://images.genius.com/8eb447d78884f40471c1ba199b6b7fb3.1000x667x1.jpg', 'id': 500, 'image_url': 'https://images.genius.com/ec38c902389e5d9df5782aa54fcf3c00.888x888x1.jpg', 'index_character': 'b', 'is_meme_verified': True, 'is_verified': True, 'name': 'Bruno Mars', 'slug': 'Bruno-mars', 'url': 'https://genius.com/artists/Bruno-mars', 'iq': 250}, 'artist': 'Bruno Mars', 'lyrics': '20 ContributorsMoney Make Her Smile Lyrics[Verse 1]\\nAll you, get back\\nComin\\' to the stage is a girl who\\'s new in town\\nShe go by the name \"Where Your Stacks At?\"\\nThis pretty little thing, I swear, won\\'t let you down\\nWatch her drop it like\\n\\n[Pre-Chorus]\\nHey (Ayy, ayy, ayy, ayy)\\nHey (Ayy, ayy, ayy, ayy)\\n\\n[Chorus]\\nOh, it\\'s not complicated so this won\\'t take a while\\nYou see, music make her dance and\\nMoney, money, money make her smile\\n\\n[Post-Chorus]\\n(Give her what you got, give her, give her what you got) Yeah\\n(Give her what you got, give her, give her what you got) Yeah\\n(Give her what you got, give her, give her what you got)\\nMoney, money, money make her smile\\n(Give her what you got, give her, give her what you got) Yeah\\n(Give her what you got, give her, give her what you got) Yeah\\n(Give her what you got, give her, give her what you got)\\nMoney, money, money make her smile\\nSee Bruno Mars LiveGet tickets as low as $97You might also like[Verse 2]\\nShe\\'s a super freak\\nYou wouldn\\'t know it if you saw her outside these velvet walls\\nUh, no, she don\\'t go where preachers preach\\nShe only go to the church where dollars fall\\nWatch her drop it like\\n\\n[Pre-Chorus]\\nHey (Ayy, ayy, ayy, ayy)\\nHey (Ayy, ayy, ayy, ayy)\\n\\n[Chorus]\\nOh, it\\'s not complicated so this won\\'t take a while\\nYou see, music make her dance and\\nMoney, money, money make her smile\\n\\n[Post-Chorus]\\n(Give her what you got, give her, give her what you got) Yeah\\n(Give her what you got, give her, give her what you got) Yeah\\n(Give her what you got, give her, give her what you got)\\nMoney, money, money make her smile\\n(Give her what you got, give her, give her what you got) Yeah\\n(Give her what you got, give her, give her what you got) Yeah\\n(Give her what you got, give her, give her what you got)\\nMoney, money, money make her smile\\n[Interlude]\\nYeah\\nYeah\\nYeah\\nWatch her\\n\\n[Drop]\\n(Give her what you got, give her, give her what you got)\\n(Got, got, got, got)\\n(Give her what you got, give her, give her what you got)\\n(Got, got)\\n\\n[Chorus]\\nOh, it\\'s not complicated so this won\\'t take a while\\nYou see, music make her dance and\\nMoney, money, money make her smile\\n\\n[Post-Chorus]\\n(Give her what you got, give her, give her what you got) Yeah\\n(Give her what you got, give her, give her what you got) Yeah\\n(Give her what you got, give her, give her what you got)\\nMoney, money, money make her smile\\n(Give her what you got, give her, give her what you got) Yeah\\n(Give her what you got, give her, give her what you got) Yeah\\n(Give her what you got, give her, give her what you got)\\nMoney, money, money make her smile10Embed'}}, {'number': 10, 'song': {'_type': 'song', 'annotation_count': 3, 'api_path': '/songs/186274', 'artist_names': 'Bruno Mars', 'full_title': 'If I Knew by\\xa0Bruno\\xa0Mars', 'header_image_thumbnail_url': 'https://images.genius.com/9978221daaac1d297761c410fa690513.300x300x1.png', 'header_image_url': 'https://images.genius.com/9978221daaac1d297761c410fa690513.1000x1000x1.png', 'id': 186274, 'instrumental': False, 'lyrics_owner_id': 225672, 'lyrics_state': 'complete', 'lyrics_updated_at': 1715156130, 'path': '/Bruno-mars-if-i-knew-lyrics', 'pyongs_count': 23, 'relationships_index_url': 'https://genius.com/Bruno-mars-if-i-knew-sample', 'release_date_components': {'year': 2012, 'month': 12, 'day': 7}, 'release_date_for_display': 'December 7, 2012', 'release_date_with_abbreviated_month_for_display': 'Dec. 7, 2012', 'song_art_image_thumbnail_url': 'https://images.genius.com/9978221daaac1d297761c410fa690513.300x300x1.png', 'song_art_image_url': 'https://images.genius.com/9978221daaac1d297761c410fa690513.1000x1000x1.png', 'stats': {'unreviewed_annotations': 0, 'hot': False, 'pageviews': 96980}, 'title': 'If I Knew', 'title_with_featured': 'If I Knew', 'updated_by_human_at': 1715146884, 'url': 'https://genius.com/Bruno-mars-if-i-knew-lyrics', 'featured_artists': [], 'primary_artist': {'_type': 'artist', 'api_path': '/artists/500', 'header_image_url': 'https://images.genius.com/8eb447d78884f40471c1ba199b6b7fb3.1000x667x1.jpg', 'id': 500, 'image_url': 'https://images.genius.com/ec38c902389e5d9df5782aa54fcf3c00.888x888x1.jpg', 'index_character': 'b', 'is_meme_verified': True, 'is_verified': True, 'name': 'Bruno Mars', 'slug': 'Bruno-mars', 'url': 'https://genius.com/artists/Bruno-mars', 'iq': 250}, 'artist': 'Bruno Mars', 'lyrics': \"29 ContributorsIf I Knew Lyrics[Verse 1]\\nOh, oh, oh, I\\nI was a city boy\\nRight into danger's where I'd always run\\nA boy who had his fun\\nBut I wouldn't have done\\nAll the things that I have done\\nIf I knew one day you'd come\\nNah, baby (Nah, baby), nah, baby (Nah, baby)\\n\\n[Verse 2]\\nOh, oh, oh, I\\nI know it breaks your heart\\nTo picture the only one you wanna love\\nIn someone else's arms\\nBut I wouldn't have done\\nAll the things that I have done\\nIf I knew one day you'd come\\nNah, baby (Nah, baby), no, baby (Nah, baby)\\n\\n[Bridge]\\nOh, baby, please, let's leave the past behind us\\nBehind us\\nSo that we can go where love will find us\\nYeah, will find us\\nI know most girls would leave me\\nBut I know that you believe me\\nSee Bruno Mars LiveGet tickets as low as $97You might also like[Outro]\\nBaby, I\\nI wish we were seventeen\\nSo I could give you all the innocence\\nThat you give to me\\nNo, I wouldn't have done\\nAll the things that I've done\\nIf I knew one day you'd come\\nIf I knew one day you'd come23Embed\"}}]\n"
     ]
    }
   ],
   "source": [
    "# lyrics now stores the .json file as a python string\n",
    "print(lyrics['tracks'])"
   ]
  },
  {
   "cell_type": "code",
   "execution_count": 19,
   "id": "33fc0da6",
   "metadata": {},
   "outputs": [
    {
     "name": "stdout",
     "output_type": "stream",
     "text": [
      "1\n",
      "2\n",
      "3\n",
      "4\n",
      "5\n",
      "6\n",
      "7\n",
      "8\n",
      "9\n",
      "10\n"
     ]
    }
   ],
   "source": [
    "for track in lyrics['tracks']:\n",
    "    print(track['number'])"
   ]
  },
  {
   "cell_type": "markdown",
   "id": "000228f6",
   "metadata": {},
   "source": [
    "# Sentiment Analyzer Model"
   ]
  },
  {
   "cell_type": "code",
   "execution_count": null,
   "id": "cc3090cd",
   "metadata": {},
   "outputs": [],
   "source": []
  },
  {
   "cell_type": "code",
   "execution_count": null,
   "id": "065f60ac",
   "metadata": {},
   "outputs": [],
   "source": []
  },
  {
   "cell_type": "code",
   "execution_count": null,
   "id": "ba157fbb",
   "metadata": {},
   "outputs": [],
   "source": []
  },
  {
   "cell_type": "code",
   "execution_count": null,
   "id": "046caacf",
   "metadata": {},
   "outputs": [],
   "source": []
  }
 ],
 "metadata": {
  "kernelspec": {
   "display_name": "Python 3 (ipykernel)",
   "language": "python",
   "name": "python3"
  },
  "language_info": {
   "codemirror_mode": {
    "name": "ipython",
    "version": 3
   },
   "file_extension": ".py",
   "mimetype": "text/x-python",
   "name": "python",
   "nbconvert_exporter": "python",
   "pygments_lexer": "ipython3",
   "version": "3.10.9"
  }
 },
 "nbformat": 4,
 "nbformat_minor": 5
}
