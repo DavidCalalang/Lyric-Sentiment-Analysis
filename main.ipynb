{
 "cells": [
  {
   "cell_type": "markdown",
   "id": "62304c17",
   "metadata": {},
   "source": [
    "# Installing Dependencies"
   ]
  },
  {
   "cell_type": "code",
   "execution_count": 6,
   "id": "2479e68a",
   "metadata": {},
   "outputs": [
    {
     "name": "stdout",
     "output_type": "stream",
     "text": [
      "Collecting striprtf\n",
      "  Downloading striprtf-0.0.26-py3-none-any.whl (6.9 kB)\n",
      "Installing collected packages: striprtf\n",
      "Successfully installed striprtf-0.0.26\n",
      "Note: you may need to restart the kernel to use updated packages.\n"
     ]
    }
   ],
   "source": [
    "pip install striprtf"
   ]
  },
  {
   "cell_type": "code",
   "execution_count": 7,
   "id": "0895fbab",
   "metadata": {},
   "outputs": [],
   "source": [
    "import pandas as pd\n",
    "from striprtf.striprtf import rtf_to_text"
   ]
  },
  {
   "cell_type": "markdown",
   "id": "645a2f09",
   "metadata": {},
   "source": [
    "# Reading Lyrics (.rtf) File and Converting to String"
   ]
  },
  {
   "cell_type": "code",
   "execution_count": 8,
   "id": "69ca824f",
   "metadata": {},
   "outputs": [
    {
     "name": "stdout",
     "output_type": "stream",
     "text": [
      "\"When I Was Your Man\"\n",
      "\n",
      "Same bed but it feels just a little bit bigger now\n",
      "Our song on the radio but it don't sound the same\n",
      "When our friends talk about you, all it does is just tear me down\n",
      "'Cause my heart breaks a little when I hear your name\n",
      "\n",
      "It all just sounds like oooooh…\n",
      "Mmm, too young, too dumb to realize\n",
      "That I should've bought you flowers\n",
      "And held your hand\n",
      "Should've gave you all my hours\n",
      "When I had the chance\n",
      "Take you to every party\n",
      "'Cause all you wanted to do was dance\n",
      "Now my baby's dancing\n",
      "But she's dancing with another man\n",
      "\n",
      "My pride, my ego, my needs, and my selfish ways\n",
      "Caused a good strong woman like you to walk out my life\n",
      "Now I'll never, never get to clean up the mess I made, ohh…\n",
      "And it haunts me every time I close my eyes\n",
      "\n",
      "It all just sounds like oooooh…\n",
      "Mmm, too young, too dumb to realize\n",
      "That I should've bought you flowers\n",
      "And held your hand\n",
      "Should've gave you all my hours\n",
      "When I had the chance\n",
      "Take you to every party\n",
      "'Cause all you wanted to do was dance\n",
      "Now my baby's dancing\n",
      "But she's dancing with another man\n",
      "\n",
      "Although it hurts\n",
      "I'll be the first to say that I was wrong\n",
      "Oh, I know I'm probably much too late\n",
      "To try and apologize for my mistakes\n",
      "But I just want you to know\n",
      "\n",
      "I hope he buys you flowers\n",
      "I hope he holds your hand\n",
      "Give you all his hours\n",
      "When he has the chance\n",
      "Take you to every party\n",
      "'Cause I remember how much you loved to dance\n",
      "Do all the things I should have done\n",
      "When I was your man\n",
      "Do all the things I should have done\n",
      "When I was your man\n",
      "\n"
     ]
    }
   ],
   "source": [
    "with open(\"When I Was Your Man.rtf\") as file:\n",
    "    content = file.read()\n",
    "    text = rtf_to_text(content)\n",
    "print(text)"
   ]
  },
  {
   "cell_type": "code",
   "execution_count": null,
   "id": "d8143adc",
   "metadata": {},
   "outputs": [],
   "source": []
  },
  {
   "cell_type": "code",
   "execution_count": null,
   "id": "59a2a662",
   "metadata": {},
   "outputs": [],
   "source": []
  }
 ],
 "metadata": {
  "kernelspec": {
   "display_name": "Python 3 (ipykernel)",
   "language": "python",
   "name": "python3"
  },
  "language_info": {
   "codemirror_mode": {
    "name": "ipython",
    "version": 3
   },
   "file_extension": ".py",
   "mimetype": "text/x-python",
   "name": "python",
   "nbconvert_exporter": "python",
   "pygments_lexer": "ipython3",
   "version": "3.10.9"
  }
 },
 "nbformat": 4,
 "nbformat_minor": 5
}
