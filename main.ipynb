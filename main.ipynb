{
 "cells": [
  {
   "cell_type": "markdown",
   "id": "62304c17",
   "metadata": {},
   "source": [
    "# Installing Dependencies"
   ]
  },
  {
   "cell_type": "code",
   "execution_count": 2,
   "id": "2479e68a",
   "metadata": {},
   "outputs": [
    {
     "name": "stdout",
     "output_type": "stream",
     "text": [
      "Collecting lyricsgenius\n",
      "  Downloading lyricsgenius-3.0.1-py3-none-any.whl (59 kB)\n",
      "\u001b[2K     \u001b[90m━━━━━━━━━━━━━━━━━━━━━━━━━━━━━━━━━━━━━━━\u001b[0m \u001b[32m59.4/59.4 kB\u001b[0m \u001b[31m529.9 kB/s\u001b[0m eta \u001b[36m0:00:00\u001b[0ma \u001b[36m0:00:01\u001b[0m\n",
      "\u001b[?25hRequirement already satisfied: requests>=2.20.0 in /Users/davidcalalang/miniconda3/lib/python3.10/site-packages (from lyricsgenius) (2.28.1)\n",
      "Requirement already satisfied: beautifulsoup4>=4.6.0 in /Users/davidcalalang/miniconda3/lib/python3.10/site-packages (from lyricsgenius) (4.11.1)\n",
      "Requirement already satisfied: soupsieve>1.2 in /Users/davidcalalang/miniconda3/lib/python3.10/site-packages (from beautifulsoup4>=4.6.0->lyricsgenius) (2.3.2.post1)\n",
      "Requirement already satisfied: urllib3<1.27,>=1.21.1 in /Users/davidcalalang/miniconda3/lib/python3.10/site-packages (from requests>=2.20.0->lyricsgenius) (1.26.14)\n",
      "Requirement already satisfied: certifi>=2017.4.17 in /Users/davidcalalang/miniconda3/lib/python3.10/site-packages (from requests>=2.20.0->lyricsgenius) (2022.12.7)\n",
      "Requirement already satisfied: charset-normalizer<3,>=2 in /Users/davidcalalang/miniconda3/lib/python3.10/site-packages (from requests>=2.20.0->lyricsgenius) (2.0.4)\n",
      "Requirement already satisfied: idna<4,>=2.5 in /Users/davidcalalang/miniconda3/lib/python3.10/site-packages (from requests>=2.20.0->lyricsgenius) (3.4)\n",
      "Installing collected packages: lyricsgenius\n",
      "Successfully installed lyricsgenius-3.0.1\n",
      "Note: you may need to restart the kernel to use updated packages.\n"
     ]
    }
   ],
   "source": [
    "pip install lyricsgenius"
   ]
  },
  {
   "cell_type": "code",
   "execution_count": 1,
   "id": "0895fbab",
   "metadata": {},
   "outputs": [],
   "source": [
    "from striprtf.striprtf import rtf_to_text\n",
    "from transformers import AutoTokenizer, AutoModelForSequenceClassification\n",
    "import torch\n",
    "import numpy as np\n",
    "import pandas as pd\n",
    "from datetime import datetime\n",
    "from dateutil import parser\n",
    "import matplotlib.pyplot as plt\n",
    "import json\n",
    "import lyricsgenius"
   ]
  },
  {
   "cell_type": "markdown",
   "id": "b9f538d3",
   "metadata": {},
   "source": [
    "# Reading Lyrics (.rtf) File and Converting to String"
   ]
  },
  {
   "cell_type": "code",
   "execution_count": 8,
   "id": "b471bb5c",
   "metadata": {},
   "outputs": [
    {
     "name": "stdout",
     "output_type": "stream",
     "text": [
      "\"When I Was Your Man\"\n",
      "\n",
      "Same bed but it feels just a little bit bigger now\n",
      "Our song on the radio but it don't sound the same\n",
      "When our friends talk about you, all it does is just tear me down\n",
      "'Cause my heart breaks a little when I hear your name\n",
      "\n",
      "It all just sounds like oooooh…\n",
      "Mmm, too young, too dumb to realize\n",
      "That I should've bought you flowers\n",
      "And held your hand\n",
      "Should've gave you all my hours\n",
      "When I had the chance\n",
      "Take you to every party\n",
      "'Cause all you wanted to do was dance\n",
      "Now my baby's dancing\n",
      "But she's dancing with another man\n",
      "\n",
      "My pride, my ego, my needs, and my selfish ways\n",
      "Caused a good strong woman like you to walk out my life\n",
      "Now I'll never, never get to clean up the mess I made, ohh…\n",
      "And it haunts me every time I close my eyes\n",
      "\n",
      "It all just sounds like oooooh…\n",
      "Mmm, too young, too dumb to realize\n",
      "That I should've bought you flowers\n",
      "And held your hand\n",
      "Should've gave you all my hours\n",
      "When I had the chance\n",
      "Take you to every party\n",
      "'Cause all you wanted to do was dance\n",
      "Now my baby's dancing\n",
      "But she's dancing with another man\n",
      "\n",
      "Although it hurts\n",
      "I'll be the first to say that I was wrong\n",
      "Oh, I know I'm probably much too late\n",
      "To try and apologize for my mistakes\n",
      "But I just want you to know\n",
      "\n",
      "I hope he buys you flowers\n",
      "I hope he holds your hand\n",
      "Give you all his hours\n",
      "When he has the chance\n",
      "Take you to every party\n",
      "'Cause I remember how much you loved to dance\n",
      "Do all the things I should have done\n",
      "When I was your man\n",
      "Do all the things I should have done\n",
      "When I was your man\n",
      "\n"
     ]
    }
   ],
   "source": [
    "with open(\"When I Was Your Man.rtf\") as file:\n",
    "    content = file.read()\n",
    "    text = rtf_to_text(content)\n",
    "print(text)"
   ]
  },
  {
   "cell_type": "markdown",
   "id": "3ab9237c",
   "metadata": {},
   "source": [
    "# Using Genius API to Import Lyrics (main resource: https://github.com/johnwmillr/LyricsGenius#usage)"
   ]
  },
  {
   "cell_type": "code",
   "execution_count": 2,
   "id": "3f8d499e",
   "metadata": {},
   "outputs": [],
   "source": [
    "# Setting up access to API using access token from genius developer website\n",
    "access_token = \"_LIE8rLIMMSaGjV1B9lJ0PnI_coyEp0XeIclqImkRlN4JMtJ5OQPouOQ_RC5zf2i\"\n",
    "genius = lyricsgenius.Genius(access_token)"
   ]
  },
  {
   "cell_type": "code",
   "execution_count": 15,
   "id": "564fec91",
   "metadata": {},
   "outputs": [
    {
     "name": "stdout",
     "output_type": "stream",
     "text": [
      "Searching for \"Unorthodox Jukebox\" by Bruno Mars...\n",
      "Wrote Lyrics_UnorthodoxJukebox.json.\n"
     ]
    }
   ],
   "source": [
    "album = genius.search_album(\"Unorthodox Jukebox\", \"Bruno Mars\")\n",
    "album.save_lyrics()\n",
    "# a .json file is saved in the directory containing information for the whole album"
   ]
  },
  {
   "cell_type": "code",
   "execution_count": 3,
   "id": "02a1ea73",
   "metadata": {},
   "outputs": [],
   "source": [
    "with open(\"Lyrics_UnorthodoxJukebox.json\") as f:\n",
    "    lyrics = json.load(f)"
   ]
  },
  {
   "cell_type": "code",
   "execution_count": 11,
   "id": "a93435bc",
   "metadata": {},
   "outputs": [
    {
     "name": "stdout",
     "output_type": "stream",
     "text": [
      "{'number': 4, 'song': {'_type': 'song', 'annotation_count': 5, 'api_path': '/songs/113496', 'artist_names': 'Bruno Mars', 'full_title': 'Treasure by\\xa0Bruno\\xa0Mars', 'header_image_thumbnail_url': 'https://images.genius.com/a011391dce77d483f6cfcb3b39a70b96.300x300x1.jpg', 'header_image_url': 'https://images.genius.com/a011391dce77d483f6cfcb3b39a70b96.1000x1000x1.jpg', 'id': 113496, 'instrumental': False, 'lyrics_owner_id': 181848, 'lyrics_state': 'complete', 'lyrics_updated_at': 1690485289, 'path': '/Bruno-mars-treasure-lyrics', 'pyongs_count': 72, 'relationships_index_url': 'https://genius.com/Bruno-mars-treasure-sample', 'release_date_components': {'year': 2012, 'month': 12, 'day': 7}, 'release_date_for_display': 'December 7, 2012', 'release_date_with_abbreviated_month_for_display': 'Dec. 7, 2012', 'song_art_image_thumbnail_url': 'https://images.genius.com/c7b37e0ffbe3b7143883c795475e7bcc.300x300x1.jpg', 'song_art_image_url': 'https://images.genius.com/c7b37e0ffbe3b7143883c795475e7bcc.1000x1000x1.jpg', 'stats': {'unreviewed_annotations': 2, 'hot': False, 'pageviews': 609418}, 'title': 'Treasure', 'title_with_featured': 'Treasure', 'updated_by_human_at': 1705913480, 'url': 'https://genius.com/Bruno-mars-treasure-lyrics', 'featured_artists': [], 'primary_artist': {'_type': 'artist', 'api_path': '/artists/500', 'header_image_url': 'https://images.genius.com/8eb447d78884f40471c1ba199b6b7fb3.1000x667x1.jpg', 'id': 500, 'image_url': 'https://images.genius.com/ec38c902389e5d9df5782aa54fcf3c00.888x888x1.jpg', 'index_character': 'b', 'is_meme_verified': True, 'is_verified': True, 'name': 'Bruno Mars', 'slug': 'Bruno-mars', 'url': 'https://genius.com/artists/Bruno-mars', 'iq': 250}, 'artist': 'Bruno Mars', 'lyrics': \"87 ContributorsTranslationsPortuguêsDeutschTreasure Lyrics[Intro]\\nBaby squirrel, you's a sexy motherfucker\\n\\n[Verse 1]\\nGimme your, gimme your, gimme your attention, baby\\nI gotta tell you a little somethin' about yourself\\nYou're wonderful, flawless, ooh, you a sexy lady\\nBut you walk around here like you wanna be someone else\\n\\n[Pre-Chorus]\\nOh, woah\\nI know that you don't know it\\nBut you're fine, so fine (Fine, so fine)\\nOh, woah\\nOh, girl, I'm gonna show you\\nWhen you're mine, oh, mine (Mine, oh, mine)\\n\\n[Chorus]\\nTreasure\\nThat is what you are\\nHoney, you're my golden star\\nYou know you can make my wish come true\\nIf you let me treasure you\\nIf you let me treasure you\\nOh, oh, oh\\nSee Bruno Mars LiveGet tickets as low as $97You might also like[Verse 2]\\nPretty girl, pretty girl, pretty girl, you should be smilin'\\nA girl like you should never look so blue\\nYou're everything I see in my dreams\\nI wouldn't say that to you if it wasn't true\\n\\n[Pre-Chorus]\\nOh, woah\\nI know that you don't know it\\nBut you're fine, so fine (Fine, so fine)\\nOh, woah\\nOh, girl, I'm gonna show you\\nWhen you're mine, oh, mine (Mine, oh, mine)\\n\\n[Chorus]\\nTreasure\\nThat is what you are\\nHoney, you're my golden star\\nYou know you can make my wish come true\\nIf you let me treasure you\\nIf you let me treasure you\\nOh, oh, oh\\n\\n[Bridge]\\nYou are my treasure\\nYou are my treasure\\nYou are my treasure\\nYeah, you, you, you, you are\\nYou are my treasure\\nYou are my treasure\\nYou are my treasure\\nYeah, you, you, you, you are\\n[Chorus]\\nTreasure (You are my treasure)\\nThat is what you are (You are my treasure)\\n(You are my treasure)\\nHoney, you're my golden star (You, you, you are)\\n(You are my treasure)\\nYou know you can make my wish come true (You are my treasure)\\n(You are my treasure)\\nIf you let me treasure you (You, you, you are)\\n(You are my treasure)\\nIf you let me treasure you (You are my treasure)\\nOh, oh, oh72Embed\"}}\n"
     ]
    }
   ],
   "source": [
    "# lyrics now stores the .json file as a python string\n",
    "print(lyrics['tracks'][3])"
   ]
  },
  {
   "cell_type": "code",
   "execution_count": 67,
   "id": "fad1d496",
   "metadata": {},
   "outputs": [],
   "source": [
    "song_lyrics_dict = {\"song\": [], \"lyrics\": []}\n",
    "for track in lyrics['tracks']:\n",
    "    new_lyrics = track['song']['lyrics']\n",
    "    start_index = new_lyrics.find('[Verse 1]')\n",
    "    new_lyrics = new_lyrics[start_index:]\n",
    "    \n",
    "    end_index = new_lyrics.find('Embed')\n",
    "    new_lyrics = new_lyrics[:(end_index-2)]\n",
    "    \n",
    "    song_lyrics_dict[\"song\"].append(track['song']['title_with_featured'])\n",
    "    song_lyrics_dict[\"lyrics\"].append(new_lyrics)"
   ]
  },
  {
   "cell_type": "code",
   "execution_count": 71,
   "id": "deeffdcf",
   "metadata": {},
   "outputs": [
    {
     "name": "stdout",
     "output_type": "stream",
     "text": [
      "Moonshine\n",
      "-------\n",
      "[Verse 1]\n",
      "Hello\n",
      "You know, you look even better than the way you did the night before\n",
      "And the moment that you kiss my lips, you know, I start to feel wonderful\n",
      "It's somethin' incredible\n",
      "There's sex in your chemicals, oh\n",
      "Ooh, let's go\n",
      "You're the best way I know to escape the extraordinary\n",
      "This world ain't for you and I know for damn sure this world ain't for me\n",
      "Lift off and say goodbye\n",
      "Just let your fire set me free\n",
      "\n",
      "[Chorus]\n",
      "Oh, moonshine\n",
      "Take us to the stars tonight\n",
      "Take us to that special place\n",
      "That place we went the last time, the last time\n",
      "\n",
      "[Verse 2]\n",
      "I know\n",
      "I was with you last night but it feels like it's been so long\n",
      "And everybody that's around, they notice that I'm not myself when you're gone\n",
      "It's good to see you again\n",
      "Good to see you again\n",
      "On top of the world (Uh)\n",
      "Is where I stand when you're back in my life\n",
      "Life's not so bad when you're way up this high\n",
      "Everything is alright\n",
      "Everything is alright\n",
      "See Bruno Mars LiveGet tickets as low as $97You might also like[Chorus]\n",
      "Oh, moonshine\n",
      "Take us to the stars tonight\n",
      "Take us to that special place\n",
      "That place we went the last time, the last time\n",
      "Oh, moonshine\n",
      "Your love, it makes me come alive\n",
      "Take us to that special place\n",
      "That place we went the last time, the last time\n",
      "\n",
      "[Bridge]\n",
      "Don't look down, no, don't never look back\n",
      "We are not afraid to die young and live fast\n",
      "Give me good times, give me love, give me laughs\n",
      "Let's take a ride to the sky before the night is gone\n",
      "\n",
      "[Chorus]\n",
      "Moonshine\n",
      "Take us to the stars tonight\n",
      "Take us to that special place\n",
      "That place we went the last time, the last time\n",
      "Oh, moonshine\n",
      "Your love, it makes me come alive\n",
      "Take us to that special place\n",
      "That place we went the last time, the last time\n"
     ]
    }
   ],
   "source": [
    "print(song_lyrics_dict[\"song\"][4])\n",
    "print(\"-------\")\n",
    "print(song_lyrics_dict[\"lyrics\"][4])"
   ]
  },
  {
   "cell_type": "markdown",
   "id": "000228f6",
   "metadata": {},
   "source": [
    "# Sentiment Analyzer Model"
   ]
  },
  {
   "cell_type": "code",
   "execution_count": null,
   "id": "cc3090cd",
   "metadata": {},
   "outputs": [],
   "source": []
  },
  {
   "cell_type": "code",
   "execution_count": null,
   "id": "065f60ac",
   "metadata": {},
   "outputs": [],
   "source": []
  },
  {
   "cell_type": "code",
   "execution_count": null,
   "id": "ba157fbb",
   "metadata": {},
   "outputs": [],
   "source": []
  },
  {
   "cell_type": "code",
   "execution_count": null,
   "id": "046caacf",
   "metadata": {},
   "outputs": [],
   "source": []
  }
 ],
 "metadata": {
  "kernelspec": {
   "display_name": "Python 3 (ipykernel)",
   "language": "python",
   "name": "python3"
  },
  "language_info": {
   "codemirror_mode": {
    "name": "ipython",
    "version": 3
   },
   "file_extension": ".py",
   "mimetype": "text/x-python",
   "name": "python",
   "nbconvert_exporter": "python",
   "pygments_lexer": "ipython3",
   "version": "3.10.9"
  }
 },
 "nbformat": 4,
 "nbformat_minor": 5
}
