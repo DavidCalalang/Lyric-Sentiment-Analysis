{
 "cells": [
  {
   "cell_type": "markdown",
   "id": "62304c17",
   "metadata": {},
   "source": [
    "# Installing Dependencies"
   ]
  },
  {
   "cell_type": "code",
   "execution_count": 2,
   "id": "2479e68a",
   "metadata": {},
   "outputs": [
    {
     "name": "stdout",
     "output_type": "stream",
     "text": [
      "Collecting lyricsgenius\n",
      "  Downloading lyricsgenius-3.0.1-py3-none-any.whl (59 kB)\n",
      "\u001b[2K     \u001b[90m━━━━━━━━━━━━━━━━━━━━━━━━━━━━━━━━━━━━━━━\u001b[0m \u001b[32m59.4/59.4 kB\u001b[0m \u001b[31m529.9 kB/s\u001b[0m eta \u001b[36m0:00:00\u001b[0ma \u001b[36m0:00:01\u001b[0m\n",
      "\u001b[?25hRequirement already satisfied: requests>=2.20.0 in /Users/davidcalalang/miniconda3/lib/python3.10/site-packages (from lyricsgenius) (2.28.1)\n",
      "Requirement already satisfied: beautifulsoup4>=4.6.0 in /Users/davidcalalang/miniconda3/lib/python3.10/site-packages (from lyricsgenius) (4.11.1)\n",
      "Requirement already satisfied: soupsieve>1.2 in /Users/davidcalalang/miniconda3/lib/python3.10/site-packages (from beautifulsoup4>=4.6.0->lyricsgenius) (2.3.2.post1)\n",
      "Requirement already satisfied: urllib3<1.27,>=1.21.1 in /Users/davidcalalang/miniconda3/lib/python3.10/site-packages (from requests>=2.20.0->lyricsgenius) (1.26.14)\n",
      "Requirement already satisfied: certifi>=2017.4.17 in /Users/davidcalalang/miniconda3/lib/python3.10/site-packages (from requests>=2.20.0->lyricsgenius) (2022.12.7)\n",
      "Requirement already satisfied: charset-normalizer<3,>=2 in /Users/davidcalalang/miniconda3/lib/python3.10/site-packages (from requests>=2.20.0->lyricsgenius) (2.0.4)\n",
      "Requirement already satisfied: idna<4,>=2.5 in /Users/davidcalalang/miniconda3/lib/python3.10/site-packages (from requests>=2.20.0->lyricsgenius) (3.4)\n",
      "Installing collected packages: lyricsgenius\n",
      "Successfully installed lyricsgenius-3.0.1\n",
      "Note: you may need to restart the kernel to use updated packages.\n"
     ]
    }
   ],
   "source": [
    "pip install lyricsgenius"
   ]
  },
  {
   "cell_type": "code",
   "execution_count": 1,
   "id": "0895fbab",
   "metadata": {},
   "outputs": [],
   "source": [
    "from striprtf.striprtf import rtf_to_text\n",
    "from transformers import AutoTokenizer, AutoModelForSequenceClassification\n",
    "import torch\n",
    "import numpy as np\n",
    "import pandas as pd\n",
    "from datetime import datetime\n",
    "from dateutil import parser\n",
    "import matplotlib.pyplot as plt\n",
    "import json\n",
    "import lyricsgenius"
   ]
  },
  {
   "cell_type": "markdown",
   "id": "b9f538d3",
   "metadata": {},
   "source": [
    "# Reading Lyrics (.rtf) File and Converting to String"
   ]
  },
  {
   "cell_type": "code",
   "execution_count": 8,
   "id": "b471bb5c",
   "metadata": {},
   "outputs": [
    {
     "name": "stdout",
     "output_type": "stream",
     "text": [
      "\"When I Was Your Man\"\n",
      "\n",
      "Same bed but it feels just a little bit bigger now\n",
      "Our song on the radio but it don't sound the same\n",
      "When our friends talk about you, all it does is just tear me down\n",
      "'Cause my heart breaks a little when I hear your name\n",
      "\n",
      "It all just sounds like oooooh…\n",
      "Mmm, too young, too dumb to realize\n",
      "That I should've bought you flowers\n",
      "And held your hand\n",
      "Should've gave you all my hours\n",
      "When I had the chance\n",
      "Take you to every party\n",
      "'Cause all you wanted to do was dance\n",
      "Now my baby's dancing\n",
      "But she's dancing with another man\n",
      "\n",
      "My pride, my ego, my needs, and my selfish ways\n",
      "Caused a good strong woman like you to walk out my life\n",
      "Now I'll never, never get to clean up the mess I made, ohh…\n",
      "And it haunts me every time I close my eyes\n",
      "\n",
      "It all just sounds like oooooh…\n",
      "Mmm, too young, too dumb to realize\n",
      "That I should've bought you flowers\n",
      "And held your hand\n",
      "Should've gave you all my hours\n",
      "When I had the chance\n",
      "Take you to every party\n",
      "'Cause all you wanted to do was dance\n",
      "Now my baby's dancing\n",
      "But she's dancing with another man\n",
      "\n",
      "Although it hurts\n",
      "I'll be the first to say that I was wrong\n",
      "Oh, I know I'm probably much too late\n",
      "To try and apologize for my mistakes\n",
      "But I just want you to know\n",
      "\n",
      "I hope he buys you flowers\n",
      "I hope he holds your hand\n",
      "Give you all his hours\n",
      "When he has the chance\n",
      "Take you to every party\n",
      "'Cause I remember how much you loved to dance\n",
      "Do all the things I should have done\n",
      "When I was your man\n",
      "Do all the things I should have done\n",
      "When I was your man\n",
      "\n"
     ]
    }
   ],
   "source": [
    "with open(\"When I Was Your Man.rtf\") as file:\n",
    "    content = file.read()\n",
    "    text = rtf_to_text(content)\n",
    "print(text)"
   ]
  },
  {
   "cell_type": "markdown",
   "id": "3ab9237c",
   "metadata": {},
   "source": [
    "# Using Genius API to Import Lyrics (main resource: https://github.com/johnwmillr/LyricsGenius#usage)"
   ]
  },
  {
   "cell_type": "code",
   "execution_count": 2,
   "id": "3f8d499e",
   "metadata": {},
   "outputs": [],
   "source": [
    "# Setting up access to API using access token from genius developer website\n",
    "access_token = \"_LIE8rLIMMSaGjV1B9lJ0PnI_coyEp0XeIclqImkRlN4JMtJ5OQPouOQ_RC5zf2i\"\n",
    "genius = lyricsgenius.Genius(access_token)"
   ]
  },
  {
   "cell_type": "code",
   "execution_count": 15,
   "id": "564fec91",
   "metadata": {},
   "outputs": [
    {
     "name": "stdout",
     "output_type": "stream",
     "text": [
      "Searching for \"Unorthodox Jukebox\" by Bruno Mars...\n",
      "Wrote Lyrics_UnorthodoxJukebox.json.\n"
     ]
    }
   ],
   "source": [
    "album = genius.search_album(\"Unorthodox Jukebox\", \"Bruno Mars\")\n",
    "album.save_lyrics()\n",
    "# a .json file is saved in the directory containing information for the whole album"
   ]
  },
  {
   "cell_type": "code",
   "execution_count": 3,
   "id": "02a1ea73",
   "metadata": {},
   "outputs": [],
   "source": [
    "with open(\"Lyrics_UnorthodoxJukebox.json\") as f:\n",
    "    lyrics = json.load(f)"
   ]
  },
  {
   "cell_type": "code",
   "execution_count": 77,
   "id": "a93435bc",
   "metadata": {},
   "outputs": [
    {
     "name": "stdout",
     "output_type": "stream",
     "text": [
      "4\n"
     ]
    }
   ],
   "source": [
    "# lyrics now stores the .json file as a python string, contains a lot of different fields, key ones for our purposes\n",
    "# are 'tracks', and within 'tracks', 'song'\n",
    "print(lyrics['tracks'][3]['number'])"
   ]
  },
  {
   "cell_type": "code",
   "execution_count": 67,
   "id": "08602a25",
   "metadata": {},
   "outputs": [],
   "source": [
    "# To store our lyrics, we'll be using python dictionaries with two keys each to store the song title and their lyrics\n",
    "# We use string splicing to deal with ignoring some extra meta-info included within the 'lyrics' field\n",
    "\n",
    "song_lyrics_dict = {\"song\": [], \"lyrics\": []}\n",
    "\n",
    "for track in lyrics['tracks']:\n",
    "    new_lyrics = track['song']['lyrics']\n",
    "    start_index = new_lyrics.find('[Verse 1]')\n",
    "    new_lyrics = new_lyrics[start_index:]\n",
    "    \n",
    "    end_index = new_lyrics.find('Embed')\n",
    "    new_lyrics = new_lyrics[:(end_index-2)]\n",
    "    \n",
    "    song_lyrics_dict[\"song\"].append(track['song']['title_with_featured'])\n",
    "    song_lyrics_dict[\"lyrics\"].append(new_lyrics)"
   ]
  },
  {
   "cell_type": "code",
   "execution_count": 73,
   "id": "b27cad51",
   "metadata": {},
   "outputs": [
    {
     "name": "stdout",
     "output_type": "stream",
     "text": [
      "Moonshine\n",
      "-------\n",
      "[Verse 1]\n",
      "Hello\n",
      "You know, you look even better tha\n"
     ]
    }
   ],
   "source": [
    "# Example of the info stored within our python dictionary\n",
    "print(song_lyrics_dict[\"song\"][4])\n",
    "print(\"-------\")\n",
    "print(song_lyrics_dict[\"lyrics\"][4][:50])"
   ]
  },
  {
   "cell_type": "markdown",
   "id": "000228f6",
   "metadata": {},
   "source": [
    "# Sentiment Analyzer Model"
   ]
  },
  {
   "cell_type": "code",
   "execution_count": null,
   "id": "cc3090cd",
   "metadata": {},
   "outputs": [],
   "source": []
  },
  {
   "cell_type": "code",
   "execution_count": null,
   "id": "065f60ac",
   "metadata": {},
   "outputs": [],
   "source": []
  },
  {
   "cell_type": "code",
   "execution_count": null,
   "id": "ba157fbb",
   "metadata": {},
   "outputs": [],
   "source": []
  },
  {
   "cell_type": "code",
   "execution_count": null,
   "id": "046caacf",
   "metadata": {},
   "outputs": [],
   "source": []
  }
 ],
 "metadata": {
  "kernelspec": {
   "display_name": "Python 3 (ipykernel)",
   "language": "python",
   "name": "python3"
  },
  "language_info": {
   "codemirror_mode": {
    "name": "ipython",
    "version": 3
   },
   "file_extension": ".py",
   "mimetype": "text/x-python",
   "name": "python",
   "nbconvert_exporter": "python",
   "pygments_lexer": "ipython3",
   "version": "3.10.9"
  }
 },
 "nbformat": 4,
 "nbformat_minor": 5
}
