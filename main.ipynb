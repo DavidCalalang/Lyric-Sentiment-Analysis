{
 "cells": [
  {
   "cell_type": "markdown",
   "id": "62304c17",
   "metadata": {},
   "source": [
    "# Installing Dependencies"
   ]
  },
  {
   "cell_type": "code",
   "execution_count": 2,
   "id": "2479e68a",
   "metadata": {},
   "outputs": [
    {
     "name": "stdout",
     "output_type": "stream",
     "text": [
      "Collecting lyricsgenius\n",
      "  Downloading lyricsgenius-3.0.1-py3-none-any.whl (59 kB)\n",
      "\u001b[2K     \u001b[90m━━━━━━━━━━━━━━━━━━━━━━━━━━━━━━━━━━━━━━━\u001b[0m \u001b[32m59.4/59.4 kB\u001b[0m \u001b[31m529.9 kB/s\u001b[0m eta \u001b[36m0:00:00\u001b[0ma \u001b[36m0:00:01\u001b[0m\n",
      "\u001b[?25hRequirement already satisfied: requests>=2.20.0 in /Users/davidcalalang/miniconda3/lib/python3.10/site-packages (from lyricsgenius) (2.28.1)\n",
      "Requirement already satisfied: beautifulsoup4>=4.6.0 in /Users/davidcalalang/miniconda3/lib/python3.10/site-packages (from lyricsgenius) (4.11.1)\n",
      "Requirement already satisfied: soupsieve>1.2 in /Users/davidcalalang/miniconda3/lib/python3.10/site-packages (from beautifulsoup4>=4.6.0->lyricsgenius) (2.3.2.post1)\n",
      "Requirement already satisfied: urllib3<1.27,>=1.21.1 in /Users/davidcalalang/miniconda3/lib/python3.10/site-packages (from requests>=2.20.0->lyricsgenius) (1.26.14)\n",
      "Requirement already satisfied: certifi>=2017.4.17 in /Users/davidcalalang/miniconda3/lib/python3.10/site-packages (from requests>=2.20.0->lyricsgenius) (2022.12.7)\n",
      "Requirement already satisfied: charset-normalizer<3,>=2 in /Users/davidcalalang/miniconda3/lib/python3.10/site-packages (from requests>=2.20.0->lyricsgenius) (2.0.4)\n",
      "Requirement already satisfied: idna<4,>=2.5 in /Users/davidcalalang/miniconda3/lib/python3.10/site-packages (from requests>=2.20.0->lyricsgenius) (3.4)\n",
      "Installing collected packages: lyricsgenius\n",
      "Successfully installed lyricsgenius-3.0.1\n",
      "Note: you may need to restart the kernel to use updated packages.\n"
     ]
    }
   ],
   "source": [
    "pip install lyricsgenius"
   ]
  },
  {
   "cell_type": "code",
   "execution_count": 1,
   "id": "0895fbab",
   "metadata": {},
   "outputs": [],
   "source": [
    "from striprtf.striprtf import rtf_to_text\n",
    "from transformers import AutoTokenizer, AutoModelForSequenceClassification\n",
    "import torch\n",
    "import numpy as np\n",
    "import pandas as pd\n",
    "from datetime import datetime\n",
    "from dateutil import parser\n",
    "import matplotlib.pyplot as plt\n",
    "import json\n",
    "import lyricsgenius"
   ]
  },
  {
   "cell_type": "markdown",
   "id": "b9f538d3",
   "metadata": {},
   "source": [
    "# Reading Lyrics (.rtf) File and Converting to String"
   ]
  },
  {
   "cell_type": "code",
   "execution_count": 8,
   "id": "b471bb5c",
   "metadata": {},
   "outputs": [
    {
     "name": "stdout",
     "output_type": "stream",
     "text": [
      "\"When I Was Your Man\"\n",
      "\n",
      "Same bed but it feels just a little bit bigger now\n",
      "Our song on the radio but it don't sound the same\n",
      "When our friends talk about you, all it does is just tear me down\n",
      "'Cause my heart breaks a little when I hear your name\n",
      "\n",
      "It all just sounds like oooooh…\n",
      "Mmm, too young, too dumb to realize\n",
      "That I should've bought you flowers\n",
      "And held your hand\n",
      "Should've gave you all my hours\n",
      "When I had the chance\n",
      "Take you to every party\n",
      "'Cause all you wanted to do was dance\n",
      "Now my baby's dancing\n",
      "But she's dancing with another man\n",
      "\n",
      "My pride, my ego, my needs, and my selfish ways\n",
      "Caused a good strong woman like you to walk out my life\n",
      "Now I'll never, never get to clean up the mess I made, ohh…\n",
      "And it haunts me every time I close my eyes\n",
      "\n",
      "It all just sounds like oooooh…\n",
      "Mmm, too young, too dumb to realize\n",
      "That I should've bought you flowers\n",
      "And held your hand\n",
      "Should've gave you all my hours\n",
      "When I had the chance\n",
      "Take you to every party\n",
      "'Cause all you wanted to do was dance\n",
      "Now my baby's dancing\n",
      "But she's dancing with another man\n",
      "\n",
      "Although it hurts\n",
      "I'll be the first to say that I was wrong\n",
      "Oh, I know I'm probably much too late\n",
      "To try and apologize for my mistakes\n",
      "But I just want you to know\n",
      "\n",
      "I hope he buys you flowers\n",
      "I hope he holds your hand\n",
      "Give you all his hours\n",
      "When he has the chance\n",
      "Take you to every party\n",
      "'Cause I remember how much you loved to dance\n",
      "Do all the things I should have done\n",
      "When I was your man\n",
      "Do all the things I should have done\n",
      "When I was your man\n",
      "\n"
     ]
    }
   ],
   "source": [
    "with open(\"When I Was Your Man.rtf\") as file:\n",
    "    content = file.read()\n",
    "    text = rtf_to_text(content)\n",
    "print(text)"
   ]
  },
  {
   "cell_type": "markdown",
   "id": "3ab9237c",
   "metadata": {},
   "source": [
    "# Using Genius API to Import Lyrics (main resource: https://github.com/johnwmillr/LyricsGenius#usage)"
   ]
  },
  {
   "cell_type": "code",
   "execution_count": 2,
   "id": "3f8d499e",
   "metadata": {},
   "outputs": [],
   "source": [
    "# Setting up access to API using access token from genius developer website\n",
    "access_token = \"_LIE8rLIMMSaGjV1B9lJ0PnI_coyEp0XeIclqImkRlN4JMtJ5OQPouOQ_RC5zf2i\"\n",
    "genius = lyricsgenius.Genius(access_token)"
   ]
  },
  {
   "cell_type": "code",
   "execution_count": 15,
   "id": "564fec91",
   "metadata": {},
   "outputs": [
    {
     "name": "stdout",
     "output_type": "stream",
     "text": [
      "Searching for \"Unorthodox Jukebox\" by Bruno Mars...\n",
      "Wrote Lyrics_UnorthodoxJukebox.json.\n"
     ]
    }
   ],
   "source": [
    "album = genius.search_album(\"Unorthodox Jukebox\", \"Bruno Mars\")\n",
    "album.save_lyrics()\n",
    "# a .json file is saved in the directory containing information for the whole album"
   ]
  },
  {
   "cell_type": "code",
   "execution_count": 3,
   "id": "02a1ea73",
   "metadata": {},
   "outputs": [],
   "source": [
    "with open(\"Lyrics_UnorthodoxJukebox.json\") as f:\n",
    "    lyrics = json.load(f)"
   ]
  },
  {
   "cell_type": "code",
   "execution_count": 11,
   "id": "a93435bc",
   "metadata": {},
   "outputs": [
    {
     "name": "stdout",
     "output_type": "stream",
     "text": [
      "{'number': 4, 'song': {'_type': 'song', 'annotation_count': 5, 'api_path': '/songs/113496', 'artist_names': 'Bruno Mars', 'full_title': 'Treasure by\\xa0Bruno\\xa0Mars', 'header_image_thumbnail_url': 'https://images.genius.com/a011391dce77d483f6cfcb3b39a70b96.300x300x1.jpg', 'header_image_url': 'https://images.genius.com/a011391dce77d483f6cfcb3b39a70b96.1000x1000x1.jpg', 'id': 113496, 'instrumental': False, 'lyrics_owner_id': 181848, 'lyrics_state': 'complete', 'lyrics_updated_at': 1690485289, 'path': '/Bruno-mars-treasure-lyrics', 'pyongs_count': 72, 'relationships_index_url': 'https://genius.com/Bruno-mars-treasure-sample', 'release_date_components': {'year': 2012, 'month': 12, 'day': 7}, 'release_date_for_display': 'December 7, 2012', 'release_date_with_abbreviated_month_for_display': 'Dec. 7, 2012', 'song_art_image_thumbnail_url': 'https://images.genius.com/c7b37e0ffbe3b7143883c795475e7bcc.300x300x1.jpg', 'song_art_image_url': 'https://images.genius.com/c7b37e0ffbe3b7143883c795475e7bcc.1000x1000x1.jpg', 'stats': {'unreviewed_annotations': 2, 'hot': False, 'pageviews': 609418}, 'title': 'Treasure', 'title_with_featured': 'Treasure', 'updated_by_human_at': 1705913480, 'url': 'https://genius.com/Bruno-mars-treasure-lyrics', 'featured_artists': [], 'primary_artist': {'_type': 'artist', 'api_path': '/artists/500', 'header_image_url': 'https://images.genius.com/8eb447d78884f40471c1ba199b6b7fb3.1000x667x1.jpg', 'id': 500, 'image_url': 'https://images.genius.com/ec38c902389e5d9df5782aa54fcf3c00.888x888x1.jpg', 'index_character': 'b', 'is_meme_verified': True, 'is_verified': True, 'name': 'Bruno Mars', 'slug': 'Bruno-mars', 'url': 'https://genius.com/artists/Bruno-mars', 'iq': 250}, 'artist': 'Bruno Mars', 'lyrics': \"87 ContributorsTranslationsPortuguêsDeutschTreasure Lyrics[Intro]\\nBaby squirrel, you's a sexy motherfucker\\n\\n[Verse 1]\\nGimme your, gimme your, gimme your attention, baby\\nI gotta tell you a little somethin' about yourself\\nYou're wonderful, flawless, ooh, you a sexy lady\\nBut you walk around here like you wanna be someone else\\n\\n[Pre-Chorus]\\nOh, woah\\nI know that you don't know it\\nBut you're fine, so fine (Fine, so fine)\\nOh, woah\\nOh, girl, I'm gonna show you\\nWhen you're mine, oh, mine (Mine, oh, mine)\\n\\n[Chorus]\\nTreasure\\nThat is what you are\\nHoney, you're my golden star\\nYou know you can make my wish come true\\nIf you let me treasure you\\nIf you let me treasure you\\nOh, oh, oh\\nSee Bruno Mars LiveGet tickets as low as $97You might also like[Verse 2]\\nPretty girl, pretty girl, pretty girl, you should be smilin'\\nA girl like you should never look so blue\\nYou're everything I see in my dreams\\nI wouldn't say that to you if it wasn't true\\n\\n[Pre-Chorus]\\nOh, woah\\nI know that you don't know it\\nBut you're fine, so fine (Fine, so fine)\\nOh, woah\\nOh, girl, I'm gonna show you\\nWhen you're mine, oh, mine (Mine, oh, mine)\\n\\n[Chorus]\\nTreasure\\nThat is what you are\\nHoney, you're my golden star\\nYou know you can make my wish come true\\nIf you let me treasure you\\nIf you let me treasure you\\nOh, oh, oh\\n\\n[Bridge]\\nYou are my treasure\\nYou are my treasure\\nYou are my treasure\\nYeah, you, you, you, you are\\nYou are my treasure\\nYou are my treasure\\nYou are my treasure\\nYeah, you, you, you, you are\\n[Chorus]\\nTreasure (You are my treasure)\\nThat is what you are (You are my treasure)\\n(You are my treasure)\\nHoney, you're my golden star (You, you, you are)\\n(You are my treasure)\\nYou know you can make my wish come true (You are my treasure)\\n(You are my treasure)\\nIf you let me treasure you (You, you, you are)\\n(You are my treasure)\\nIf you let me treasure you (You are my treasure)\\nOh, oh, oh72Embed\"}}\n"
     ]
    }
   ],
   "source": [
    "# lyrics now stores the .json file as a python string\n",
    "print(lyrics['tracks'][3])"
   ]
  },
  {
   "cell_type": "code",
   "execution_count": 25,
   "id": "65d0d5f9",
   "metadata": {},
   "outputs": [
    {
     "data": {
      "text/plain": [
       "{'_type': 'song',\n",
       " 'annotation_count': 9,\n",
       " 'api_path': '/songs/96183',\n",
       " 'artist_names': 'Bruno Mars',\n",
       " 'full_title': 'Young Girls by\\xa0Bruno\\xa0Mars',\n",
       " 'header_image_thumbnail_url': 'https://images.genius.com/a011391dce77d483f6cfcb3b39a70b96.300x300x1.jpg',\n",
       " 'header_image_url': 'https://images.genius.com/a011391dce77d483f6cfcb3b39a70b96.1000x1000x1.jpg',\n",
       " 'id': 96183,\n",
       " 'instrumental': False,\n",
       " 'lyrics_owner_id': 154085,\n",
       " 'lyrics_state': 'complete',\n",
       " 'lyrics_updated_at': 1669953685,\n",
       " 'path': '/Bruno-mars-young-girls-lyrics',\n",
       " 'pyongs_count': 37,\n",
       " 'relationships_index_url': 'https://genius.com/Bruno-mars-young-girls-sample',\n",
       " 'release_date_components': {'year': 2012, 'month': 11, 'day': 6},\n",
       " 'release_date_for_display': 'November 6, 2012',\n",
       " 'release_date_with_abbreviated_month_for_display': 'Nov. 6, 2012',\n",
       " 'song_art_image_thumbnail_url': 'https://images.genius.com/86ba9fdfe0b8905f6c400405c65f7e57.300x300x1.jpg',\n",
       " 'song_art_image_url': 'https://images.genius.com/86ba9fdfe0b8905f6c400405c65f7e57.1000x1000x1.jpg',\n",
       " 'stats': {'unreviewed_annotations': 1, 'hot': False, 'pageviews': 136644},\n",
       " 'title': 'Young Girls',\n",
       " 'title_with_featured': 'Young Girls',\n",
       " 'updated_by_human_at': 1704648441,\n",
       " 'url': 'https://genius.com/Bruno-mars-young-girls-lyrics',\n",
       " 'featured_artists': [],\n",
       " 'primary_artist': {'_type': 'artist',\n",
       "  'api_path': '/artists/500',\n",
       "  'header_image_url': 'https://images.genius.com/8eb447d78884f40471c1ba199b6b7fb3.1000x667x1.jpg',\n",
       "  'id': 500,\n",
       "  'image_url': 'https://images.genius.com/ec38c902389e5d9df5782aa54fcf3c00.888x888x1.jpg',\n",
       "  'index_character': 'b',\n",
       "  'is_meme_verified': True,\n",
       "  'is_verified': True,\n",
       "  'name': 'Bruno Mars',\n",
       "  'slug': 'Bruno-mars',\n",
       "  'url': 'https://genius.com/artists/Bruno-mars',\n",
       "  'iq': 250},\n",
       " 'artist': 'Bruno Mars',\n",
       " 'lyrics': \"36 ContributorsYoung Girls Lyrics[Verse 1]\\nI spend all my money\\nBought a big old fancy car\\nFor these bright-eyed honeys\\nOh yeah, you know who you are\\nKeep me up 'til the sun is high\\n'Til the birds start callin' my name\\nI'm addicted and I don't know why\\nGuess I've always been this way\\n\\n[Pre-Chorus]\\nAll these roads steer me wrong\\nBut I still drive them all night long\\nAll night long\\n\\n[Chorus]\\nAll you young, wild girls\\nYou make a mess of me (You make a mess of me)\\nYeah, you young, wild girls\\nYou'll be the death of me, the death of me\\nAll you young, wild girls\\nNo matter what you do (No matter what you do)\\nYeah, you young, wild girls\\nI'll always come back to you, come back to you\\n\\n[Verse 2]\\nI get lost under these lights\\nI get lost in the words I say\\nStart believin' my own lies\\nLike everythin' will be okay\\nOh, I still dream of a simple life\\nBoy meets girl, makes her his wife\\nBut love don't exist when you live like this\\nThat much, I know, yes, I know\\nSee Bruno Mars LiveGet tickets as low as $97You might also like[Pre-Chorus]\\nAll these roads steer me wrong\\nBut I still drive them all night long\\nAll night long\\n\\n[Chorus]\\nAll you young, wild girls\\nYou make a mess of me (You make a mess of me)\\nYeah, you young, wild girls\\nYou'll be the death of me, the death of me\\nAll you young, wild girls\\nNo matter what you do (No matter what you do)\\nYeah, you young, wild girls\\nI'll always come back to you, come back to you\\n\\n[Bridge]\\nYou, you\\nYou, you, you\\nYeah, you, you, you\\nYou, you, you\\n\\n[Chorus]\\nAll you young, wild girls\\nYou make a mess of me (You make a mess of me)\\nYeah, you young, wild girls\\nYou'll be the death of me, the death of me\\nAll you young, wild girls\\nNo matter what you do (No matter what you do)\\nYeah, you young, wild girls\\nI'll always come back to you, come back to you37Embed\"}"
      ]
     },
     "execution_count": 25,
     "metadata": {},
     "output_type": "execute_result"
    }
   ],
   "source": [
    "lyrics['tracks'][0]['song']"
   ]
  },
  {
   "cell_type": "code",
   "execution_count": 30,
   "id": "33fc0da6",
   "metadata": {},
   "outputs": [],
   "source": [
    "song_lyrics_dict = {\"song\": [], \"lyrics\": []}\n",
    "for track in lyrics['tracks']:\n",
    "    song_lyrics_dict[\"song\"].append(track['song']['title_with_featured'])\n",
    "    song_lyrics_dict[\"lyrics\"].append(track['song']['lyrics'])\n",
    "    #song_lyrics.append(track['song']['lyrics'])\n",
    "    #print(track['number'])"
   ]
  },
  {
   "cell_type": "code",
   "execution_count": 34,
   "id": "11f568bd",
   "metadata": {},
   "outputs": [
    {
     "ename": "KeyError",
     "evalue": "0",
     "output_type": "error",
     "traceback": [
      "\u001b[0;31m---------------------------------------------------------------------------\u001b[0m",
      "\u001b[0;31mKeyError\u001b[0m                                  Traceback (most recent call last)",
      "Cell \u001b[0;32mIn[34], line 1\u001b[0m\n\u001b[0;32m----> 1\u001b[0m \u001b[43msong_lyrics_dict\u001b[49m\u001b[43m[\u001b[49m\u001b[38;5;241;43m0\u001b[39;49m\u001b[43m]\u001b[49m[\u001b[38;5;241m0\u001b[39m]\n",
      "\u001b[0;31mKeyError\u001b[0m: 0"
     ]
    }
   ],
   "source": [
    "print(song_lyrics_dict[\"song\"][0])\n",
    "print()"
   ]
  },
  {
   "cell_type": "markdown",
   "id": "000228f6",
   "metadata": {},
   "source": [
    "# Sentiment Analyzer Model"
   ]
  },
  {
   "cell_type": "code",
   "execution_count": null,
   "id": "cc3090cd",
   "metadata": {},
   "outputs": [],
   "source": []
  },
  {
   "cell_type": "code",
   "execution_count": null,
   "id": "065f60ac",
   "metadata": {},
   "outputs": [],
   "source": []
  },
  {
   "cell_type": "code",
   "execution_count": null,
   "id": "ba157fbb",
   "metadata": {},
   "outputs": [],
   "source": []
  },
  {
   "cell_type": "code",
   "execution_count": null,
   "id": "046caacf",
   "metadata": {},
   "outputs": [],
   "source": []
  }
 ],
 "metadata": {
  "kernelspec": {
   "display_name": "Python 3 (ipykernel)",
   "language": "python",
   "name": "python3"
  },
  "language_info": {
   "codemirror_mode": {
    "name": "ipython",
    "version": 3
   },
   "file_extension": ".py",
   "mimetype": "text/x-python",
   "name": "python",
   "nbconvert_exporter": "python",
   "pygments_lexer": "ipython3",
   "version": "3.10.9"
  }
 },
 "nbformat": 4,
 "nbformat_minor": 5
}
